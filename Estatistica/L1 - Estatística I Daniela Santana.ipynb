{
 "cells": [
  {
   "cell_type": "markdown",
   "id": "bf41096b",
   "metadata": {},
   "source": [
    "# Exercícios - Estatística I"
   ]
  },
  {
   "cell_type": "markdown",
   "id": "dc9efb9e",
   "metadata": {},
   "source": [
    "### Questão 1"
   ]
  },
  {
   "cell_type": "markdown",
   "id": "f0f7505b",
   "metadata": {},
   "source": [
    "Os exercícios de 1 a 5 serão desenvolvidos utilizando o _dataset_ `Titanic.csv`:\n",
    "    \n",
    "Calcule a frequência absoluta para os sobreviventes no _Titanic_.\n",
    "\n",
    "__Dica.:__ Utilize a função `.value_counts()`"
   ]
  },
  {
   "cell_type": "markdown",
   "id": "02cce555",
   "metadata": {},
   "source": [
    "Carregando as principais bibliotecas que iremos utilizar:"
   ]
  },
  {
   "cell_type": "code",
   "execution_count": 4,
   "id": "35fab489",
   "metadata": {
    "ExecuteTime": {
     "end_time": "2021-10-11T19:21:50.862971Z",
     "start_time": "2021-10-11T19:21:50.846971Z"
    }
   },
   "outputs": [],
   "source": [
    "import pandas as pd\n",
    "import numpy as np\n",
    "import matplotlib.pyplot as plt\n",
    "import seaborn as sns\n",
    "\n",
    "#sns.load_dataset('titanic.csv')"
   ]
  },
  {
   "cell_type": "code",
   "execution_count": 36,
   "id": "21d68928",
   "metadata": {
    "ExecuteTime": {
     "end_time": "2021-10-11T20:00:27.117379Z",
     "start_time": "2021-10-11T20:00:27.086017Z"
    }
   },
   "outputs": [
    {
     "name": "stdout",
     "output_type": "stream",
     "text": [
      "<class 'pandas.core.frame.DataFrame'>\n",
      "RangeIndex: 891 entries, 0 to 890\n",
      "Data columns (total 12 columns):\n",
      " #   Column       Non-Null Count  Dtype  \n",
      "---  ------       --------------  -----  \n",
      " 0   PassengerId  891 non-null    int64  \n",
      " 1   Survived     891 non-null    int64  \n",
      " 2   Pclass       891 non-null    int64  \n",
      " 3   Name         891 non-null    object \n",
      " 4   Sex          891 non-null    object \n",
      " 5   Age          714 non-null    float64\n",
      " 6   SibSp        891 non-null    int64  \n",
      " 7   Parch        891 non-null    int64  \n",
      " 8   Ticket       891 non-null    object \n",
      " 9   Fare         891 non-null    float64\n",
      " 10  Cabin        204 non-null    object \n",
      " 11  Embarked     889 non-null    object \n",
      "dtypes: float64(2), int64(5), object(5)\n",
      "memory usage: 83.7+ KB\n"
     ]
    }
   ],
   "source": [
    "titanic = pd.read_csv('titanic.csv')\n",
    "titanic.info()  \n",
    "  "
   ]
  },
  {
   "cell_type": "code",
   "execution_count": 37,
   "id": "ea48b800",
   "metadata": {
    "ExecuteTime": {
     "end_time": "2021-10-11T20:00:33.124072Z",
     "start_time": "2021-10-11T20:00:33.108487Z"
    }
   },
   "outputs": [
    {
     "data": {
      "text/plain": [
       "0    549\n",
       "1    342\n",
       "Name: Survived, dtype: int64"
      ]
     },
     "execution_count": 37,
     "metadata": {},
     "output_type": "execute_result"
    }
   ],
   "source": [
    "titanic['Survived'].value_counts()  "
   ]
  },
  {
   "cell_type": "markdown",
   "id": "70fbcc9a",
   "metadata": {},
   "source": [
    "### Questão 2"
   ]
  },
  {
   "cell_type": "markdown",
   "id": "26ebb4fc",
   "metadata": {},
   "source": [
    "Os exercícios de 1 a 5 serão desenvolvidos utilizando o _dataset_ `Titanic.csv`:\n",
    "    \n",
    "Calcule a frequência relativa, relativa percentual e acumulativa para os sobreviventes no _Titanic_.\n",
    "\n",
    "__Dica.:__ Utilize a função `.value_counts()`"
   ]
  },
  {
   "cell_type": "code",
   "execution_count": 13,
   "id": "1b111474",
   "metadata": {
    "ExecuteTime": {
     "end_time": "2021-10-11T19:31:32.435736Z",
     "start_time": "2021-10-11T19:31:32.424742Z"
    }
   },
   "outputs": [
    {
     "data": {
      "text/plain": [
       "0    0.616162\n",
       "1    0.383838\n",
       "Name: Survived, dtype: float64"
      ]
     },
     "execution_count": 13,
     "metadata": {},
     "output_type": "execute_result"
    }
   ],
   "source": [
    "titanic['Survived'].value_counts(normalize=True)     "
   ]
  },
  {
   "cell_type": "code",
   "execution_count": 14,
   "id": "75fb2969",
   "metadata": {
    "ExecuteTime": {
     "end_time": "2021-10-11T19:31:51.234395Z",
     "start_time": "2021-10-11T19:31:51.209397Z"
    }
   },
   "outputs": [
    {
     "data": {
      "text/html": [
       "<div>\n",
       "<style scoped>\n",
       "    .dataframe tbody tr th:only-of-type {\n",
       "        vertical-align: middle;\n",
       "    }\n",
       "\n",
       "    .dataframe tbody tr th {\n",
       "        vertical-align: top;\n",
       "    }\n",
       "\n",
       "    .dataframe thead th {\n",
       "        text-align: right;\n",
       "    }\n",
       "</style>\n",
       "<table border=\"1\" class=\"dataframe\">\n",
       "  <thead>\n",
       "    <tr style=\"text-align: right;\">\n",
       "      <th></th>\n",
       "      <th>freq</th>\n",
       "      <th>freq_relativa</th>\n",
       "    </tr>\n",
       "  </thead>\n",
       "  <tbody>\n",
       "    <tr>\n",
       "      <th>0</th>\n",
       "      <td>549</td>\n",
       "      <td>0.616162</td>\n",
       "    </tr>\n",
       "    <tr>\n",
       "      <th>1</th>\n",
       "      <td>342</td>\n",
       "      <td>0.383838</td>\n",
       "    </tr>\n",
       "  </tbody>\n",
       "</table>\n",
       "</div>"
      ],
      "text/plain": [
       "   freq  freq_relativa\n",
       "0   549       0.616162\n",
       "1   342       0.383838"
      ]
     },
     "execution_count": 14,
     "metadata": {},
     "output_type": "execute_result"
    }
   ],
   "source": [
    "freq_table = pd.concat([titanic['Survived'].value_counts(),\n",
    "                        titanic['Survived'].value_counts(normalize = True)],\n",
    "                       axis = 1,\n",
    "                       keys = (\"freq\", \"freq_relativa\"))\n",
    "freq_table"
   ]
  },
  {
   "cell_type": "code",
   "execution_count": 15,
   "id": "56cbfc76",
   "metadata": {
    "ExecuteTime": {
     "end_time": "2021-10-11T19:32:57.549048Z",
     "start_time": "2021-10-11T19:32:57.533425Z"
    }
   },
   "outputs": [
    {
     "data": {
      "text/html": [
       "<div>\n",
       "<style scoped>\n",
       "    .dataframe tbody tr th:only-of-type {\n",
       "        vertical-align: middle;\n",
       "    }\n",
       "\n",
       "    .dataframe tbody tr th {\n",
       "        vertical-align: top;\n",
       "    }\n",
       "\n",
       "    .dataframe thead th {\n",
       "        text-align: right;\n",
       "    }\n",
       "</style>\n",
       "<table border=\"1\" class=\"dataframe\">\n",
       "  <thead>\n",
       "    <tr style=\"text-align: right;\">\n",
       "      <th></th>\n",
       "      <th>freq</th>\n",
       "      <th>freq_relativa</th>\n",
       "      <th>freq_percentual</th>\n",
       "    </tr>\n",
       "  </thead>\n",
       "  <tbody>\n",
       "    <tr>\n",
       "      <th>0</th>\n",
       "      <td>549</td>\n",
       "      <td>0.616162</td>\n",
       "      <td>61.616162</td>\n",
       "    </tr>\n",
       "    <tr>\n",
       "      <th>1</th>\n",
       "      <td>342</td>\n",
       "      <td>0.383838</td>\n",
       "      <td>38.383838</td>\n",
       "    </tr>\n",
       "  </tbody>\n",
       "</table>\n",
       "</div>"
      ],
      "text/plain": [
       "   freq  freq_relativa  freq_percentual\n",
       "0   549       0.616162        61.616162\n",
       "1   342       0.383838        38.383838"
      ]
     },
     "execution_count": 15,
     "metadata": {},
     "output_type": "execute_result"
    }
   ],
   "source": [
    "freq_table['freq_percentual'] = freq_table['freq_relativa']*100\n",
    "freq_table "
   ]
  },
  {
   "cell_type": "code",
   "execution_count": 16,
   "id": "93ca5477",
   "metadata": {
    "ExecuteTime": {
     "end_time": "2021-10-11T19:33:05.572835Z",
     "start_time": "2021-10-11T19:33:05.559837Z"
    }
   },
   "outputs": [
    {
     "data": {
      "text/html": [
       "<div>\n",
       "<style scoped>\n",
       "    .dataframe tbody tr th:only-of-type {\n",
       "        vertical-align: middle;\n",
       "    }\n",
       "\n",
       "    .dataframe tbody tr th {\n",
       "        vertical-align: top;\n",
       "    }\n",
       "\n",
       "    .dataframe thead th {\n",
       "        text-align: right;\n",
       "    }\n",
       "</style>\n",
       "<table border=\"1\" class=\"dataframe\">\n",
       "  <thead>\n",
       "    <tr style=\"text-align: right;\">\n",
       "      <th></th>\n",
       "      <th>freq</th>\n",
       "      <th>freq_relativa</th>\n",
       "      <th>freq_percentual</th>\n",
       "      <th>freq_acumulada</th>\n",
       "    </tr>\n",
       "  </thead>\n",
       "  <tbody>\n",
       "    <tr>\n",
       "      <th>0</th>\n",
       "      <td>549</td>\n",
       "      <td>0.616162</td>\n",
       "      <td>61.616162</td>\n",
       "      <td>61.616162</td>\n",
       "    </tr>\n",
       "    <tr>\n",
       "      <th>1</th>\n",
       "      <td>342</td>\n",
       "      <td>0.383838</td>\n",
       "      <td>38.383838</td>\n",
       "      <td>100.000000</td>\n",
       "    </tr>\n",
       "  </tbody>\n",
       "</table>\n",
       "</div>"
      ],
      "text/plain": [
       "   freq  freq_relativa  freq_percentual  freq_acumulada\n",
       "0   549       0.616162        61.616162       61.616162\n",
       "1   342       0.383838        38.383838      100.000000"
      ]
     },
     "execution_count": 16,
     "metadata": {},
     "output_type": "execute_result"
    }
   ],
   "source": [
    "freq_table['freq_acumulada'] = freq_table['freq_percentual'].cumsum()\n",
    "freq_table "
   ]
  },
  {
   "cell_type": "markdown",
   "id": "a1490edd",
   "metadata": {},
   "source": [
    "### Questão 3"
   ]
  },
  {
   "cell_type": "markdown",
   "id": "045b0f2a",
   "metadata": {},
   "source": [
    "Os exercícios de 1 a 5 serão desenvolvidos utilizando o _dataset_ `Titanic.csv`:\n",
    "    \n",
    "Utilizando a coluna `Age` do _dataset Titanic_, defina as principais métricas estatísticas para essa variável tais como:\n",
    "- Média;\n",
    "- Desvio Padrão;\n",
    "- Mínimo;\n",
    "- Primeiro Quartil;\n",
    "- Segundo Quartil (Mediana);\n",
    "- Terceiro Quartil;\n",
    "- Distância Interquartil (IQR);\n",
    "- Máximo;\n",
    "- Skewness;\n",
    "- Moda."
   ]
  },
  {
   "cell_type": "code",
   "execution_count": 35,
   "id": "70c58f1a",
   "metadata": {
    "ExecuteTime": {
     "end_time": "2021-10-11T19:59:07.954000Z",
     "start_time": "2021-10-11T19:59:07.924291Z"
    }
   },
   "outputs": [
    {
     "name": "stdout",
     "output_type": "stream",
     "text": [
      "Idade média: 29.69911764705882\n",
      "\n",
      "Desvio padrão idade: 14.526497332334044\n",
      "\n",
      "Menor idade: 0.42\n",
      "\n",
      "Q1: 20.125\n",
      "\n",
      "Q2: 28.0\n",
      "\n",
      "Q3: 38.0\n",
      "\n",
      "IQR: 17.875\n",
      "\n",
      "Maior idade: 80.0\n",
      "\n",
      "Skewness: 0.38910778230082693\n",
      "\n",
      "Moda dos dados e sua frequencia: ModeResult(mode=array([24.]), count=array([30]))\n"
     ]
    }
   ],
   "source": [
    "print('Idade média:', titanic['Age'].mean())\n",
    "print('\\nDesvio padrão idade:', titanic['Age'].std())\n",
    "print('\\nMenor idade:', titanic['Age'].min()) \n",
    "amostra =  titanic[ titanic['Age']>=0 ] ['Age']    \n",
    "print(\"\\nQ1:\", np.quantile(amostra, 0.25))\n",
    "print(\"\\nQ2:\", np.quantile(amostra, 0.50))\n",
    "print(\"\\nQ3:\", np.quantile(amostra, 0.75))\n",
    "# Calcula o intervalo interquartil\n",
    "iqr = np.quantile(amostra, 0.75) - np.quantile(amostra, 0.25)\n",
    "\n",
    "# Print do IQR\n",
    "print(\"\\nIQR:\", iqr)  \n",
    "\n",
    "print('\\nMaior idade:', titanic['Age'].max()) \n",
    "print(\"\\nSkewness:\", pd.Series(amostra).skew())\n",
    "from scipy import stats\n",
    "print(\"\\nModa dos dados e sua frequencia:\", stats.mode(amostra)) "
   ]
  },
  {
   "cell_type": "code",
   "execution_count": 21,
   "id": "f1f90d43",
   "metadata": {
    "ExecuteTime": {
     "end_time": "2021-10-11T19:37:57.467789Z",
     "start_time": "2021-10-11T19:37:57.440369Z"
    }
   },
   "outputs": [
    {
     "data": {
      "text/plain": [
       "[2.0,\n",
       " 2.0,\n",
       " 3.0,\n",
       " 4.0,\n",
       " 7.0,\n",
       " 8.0,\n",
       " 14.0,\n",
       " 14.0,\n",
       " 14.0,\n",
       " 15.0,\n",
       " 18.0,\n",
       " 18.0,\n",
       " 19.0,\n",
       " 19.0,\n",
       " 20.0,\n",
       " 21.0,\n",
       " 21.0,\n",
       " 22.0,\n",
       " 26.0,\n",
       " 27.0,\n",
       " 27.0,\n",
       " 28.0,\n",
       " 28.0,\n",
       " 29.0,\n",
       " 31.0,\n",
       " 34.0,\n",
       " 35.0,\n",
       " 35.0,\n",
       " 38.0,\n",
       " nan,\n",
       " 35.0,\n",
       " 38.0,\n",
       " 39.0,\n",
       " 40.0,\n",
       " 40.0,\n",
       " 42.0,\n",
       " 54.0,\n",
       " 55.0,\n",
       " 58.0,\n",
       " nan,\n",
       " nan,\n",
       " nan,\n",
       " nan,\n",
       " nan,\n",
       " nan,\n",
       " nan,\n",
       " 66.0,\n",
       " nan,\n",
       " nan,\n",
       " nan,\n",
       " nan,\n",
       " nan,\n",
       " nan,\n",
       " 49.0,\n",
       " 65.0,\n",
       " nan,\n",
       " 0.83,\n",
       " 4.0,\n",
       " 5.0,\n",
       " 11.0,\n",
       " 14.5,\n",
       " 16.0,\n",
       " 16.0,\n",
       " 17.0,\n",
       " 17.0,\n",
       " 19.0,\n",
       " 20.0,\n",
       " 21.0,\n",
       " 21.0,\n",
       " 21.0,\n",
       " 21.0,\n",
       " 22.0,\n",
       " 22.0,\n",
       " 23.0,\n",
       " 23.0,\n",
       " 24.0,\n",
       " 25.0,\n",
       " 26.0,\n",
       " 28.0,\n",
       " 28.0,\n",
       " 28.0,\n",
       " 28.5,\n",
       " 33.0,\n",
       " 34.0,\n",
       " 38.0,\n",
       " 45.0,\n",
       " nan,\n",
       " nan,\n",
       " 26.0,\n",
       " 26.0,\n",
       " 29.0,\n",
       " 29.0,\n",
       " 29.0,\n",
       " 30.0,\n",
       " 32.0,\n",
       " 32.0,\n",
       " nan,\n",
       " nan,\n",
       " nan,\n",
       " 33.0,\n",
       " nan,\n",
       " 37.0,\n",
       " 38.0,\n",
       " 46.0,\n",
       " 59.0,\n",
       " nan,\n",
       " 34.0,\n",
       " 71.0,\n",
       " nan,\n",
       " nan,\n",
       " nan,\n",
       " 1.0,\n",
       " 2.0,\n",
       " 9.0,\n",
       " 9.0,\n",
       " 12.0,\n",
       " 16.0,\n",
       " 16.0,\n",
       " 17.0,\n",
       " 17.0,\n",
       " 18.0,\n",
       " 19.0,\n",
       " 19.0,\n",
       " 19.0,\n",
       " 20.0,\n",
       " 20.0,\n",
       " 21.0,\n",
       " 21.0,\n",
       " 22.0,\n",
       " 22.0,\n",
       " 22.0,\n",
       " 23.0,\n",
       " 24.0,\n",
       " 24.0,\n",
       " 24.0,\n",
       " 24.0,\n",
       " 25.0,\n",
       " 26.0,\n",
       " 29.0,\n",
       " 30.0,\n",
       " 32.5,\n",
       " 54.0,\n",
       " 70.5,\n",
       " nan,\n",
       " 32.5,\n",
       " nan,\n",
       " nan,\n",
       " 27.0,\n",
       " 29.0,\n",
       " 33.0,\n",
       " 36.5,\n",
       " 37.0,\n",
       " 40.0,\n",
       " 40.5,\n",
       " 42.0,\n",
       " 44.0,\n",
       " 45.0,\n",
       " 47.0,\n",
       " nan,\n",
       " 45.0,\n",
       " 51.0,\n",
       " 51.0,\n",
       " 55.5,\n",
       " nan,\n",
       " nan,\n",
       " nan,\n",
       " nan,\n",
       " nan,\n",
       " 1.0,\n",
       " 1.0,\n",
       " 2.0,\n",
       " 3.0,\n",
       " 4.0,\n",
       " 4.0,\n",
       " 9.0,\n",
       " 16.0,\n",
       " 16.0,\n",
       " 18.0,\n",
       " 18.0,\n",
       " 19.0,\n",
       " 19.0,\n",
       " 21.0,\n",
       " 22.0,\n",
       " 24.0,\n",
       " 24.0,\n",
       " 26.0,\n",
       " 27.0,\n",
       " 27.0,\n",
       " 28.0,\n",
       " 28.0,\n",
       " 30.0,\n",
       " 30.0,\n",
       " 30.0,\n",
       " 31.0,\n",
       " 32.0,\n",
       " 32.0,\n",
       " 34.0,\n",
       " 36.0,\n",
       " 50.0,\n",
       " 56.0,\n",
       " 61.0,\n",
       " nan,\n",
       " nan,\n",
       " nan,\n",
       " nan,\n",
       " nan,\n",
       " 32.0,\n",
       " 35.0,\n",
       " 36.0,\n",
       " 40.0,\n",
       " 40.0,\n",
       " 42.0,\n",
       " 42.0,\n",
       " 44.0,\n",
       " 45.0,\n",
       " 45.5,\n",
       " 47.0,\n",
       " 58.0,\n",
       " nan,\n",
       " nan,\n",
       " nan,\n",
       " nan,\n",
       " 51.0,\n",
       " nan,\n",
       " 3.0,\n",
       " 5.0,\n",
       " 7.0,\n",
       " 8.0,\n",
       " 16.0,\n",
       " 18.0,\n",
       " 19.0,\n",
       " 19.0,\n",
       " 20.5,\n",
       " 22.0,\n",
       " 24.0,\n",
       " 24.0,\n",
       " 25.0,\n",
       " 29.0,\n",
       " 29.0,\n",
       " 30.0,\n",
       " 38.0,\n",
       " nan,\n",
       " 25.0,\n",
       " 25.0,\n",
       " 29.0,\n",
       " 30.0,\n",
       " 33.0,\n",
       " 35.0,\n",
       " 35.0,\n",
       " 36.0,\n",
       " 59.0,\n",
       " nan,\n",
       " 37.0,\n",
       " 44.0,\n",
       " nan,\n",
       " nan,\n",
       " 22.0,\n",
       " 29.0,\n",
       " 30.0,\n",
       " 35.0,\n",
       " 35.0,\n",
       " 37.0,\n",
       " 41.0,\n",
       " 41.0,\n",
       " 44.0,\n",
       " 45.0,\n",
       " 50.0,\n",
       " 54.0,\n",
       " nan,\n",
       " 62.0,\n",
       " nan,\n",
       " nan,\n",
       " 40.0,\n",
       " 52.0,\n",
       " nan,\n",
       " 58.0,\n",
       " nan,\n",
       " nan,\n",
       " 63.0,\n",
       " nan,\n",
       " 0.92,\n",
       " 2.0,\n",
       " 16.0,\n",
       " 16.0,\n",
       " 16.0,\n",
       " 17.0,\n",
       " 18.0,\n",
       " 19.0,\n",
       " 19.0,\n",
       " 19.0,\n",
       " 22.0,\n",
       " 22.0,\n",
       " 22.0,\n",
       " 22.0,\n",
       " 23.5,\n",
       " 24.0,\n",
       " 24.0,\n",
       " 24.0,\n",
       " 24.0,\n",
       " 26.0,\n",
       " 26.0,\n",
       " 26.0,\n",
       " 27.0,\n",
       " 28.0,\n",
       " 30.0,\n",
       " 31.0,\n",
       " 36.0,\n",
       " 38.0,\n",
       " 61.0,\n",
       " 65.0,\n",
       " nan,\n",
       " 30.0,\n",
       " 30.0,\n",
       " 31.0,\n",
       " 33.0,\n",
       " 36.0,\n",
       " 42.0,\n",
       " nan,\n",
       " nan,\n",
       " 36.0,\n",
       " 40.0,\n",
       " 43.0,\n",
       " 50.0,\n",
       " nan,\n",
       " nan,\n",
       " nan,\n",
       " nan,\n",
       " nan,\n",
       " 28.0,\n",
       " 30.0,\n",
       " 45.5,\n",
       " 54.0,\n",
       " nan,\n",
       " nan,\n",
       " nan,\n",
       " nan,\n",
       " 1.0,\n",
       " 1.0,\n",
       " 2.0,\n",
       " 3.0,\n",
       " 3.0,\n",
       " 15.0,\n",
       " 17.0,\n",
       " 18.0,\n",
       " 18.0,\n",
       " 19.0,\n",
       " 19.0,\n",
       " 20.0,\n",
       " 21.0,\n",
       " 22.0,\n",
       " 22.0,\n",
       " 22.0,\n",
       " 23.0,\n",
       " 24.0,\n",
       " 24.0,\n",
       " 24.0,\n",
       " 25.0,\n",
       " 25.0,\n",
       " 25.0,\n",
       " 27.0,\n",
       " 28.0,\n",
       " 28.0,\n",
       " 29.0,\n",
       " 29.0,\n",
       " 30.0,\n",
       " 35.0,\n",
       " 36.0,\n",
       " 38.0,\n",
       " 40.0,\n",
       " 40.0,\n",
       " 41.0,\n",
       " 42.0,\n",
       " 45.0,\n",
       " 45.0,\n",
       " nan,\n",
       " nan,\n",
       " nan,\n",
       " nan,\n",
       " nan,\n",
       " 45.0,\n",
       " nan,\n",
       " 32.0,\n",
       " 60.0,\n",
       " nan,\n",
       " nan,\n",
       " nan,\n",
       " 35.0,\n",
       " 42.0,\n",
       " nan,\n",
       " 36.0,\n",
       " nan,\n",
       " 3.0,\n",
       " 4.0,\n",
       " 10.0,\n",
       " 13.0,\n",
       " 14.0,\n",
       " 17.0,\n",
       " 18.0,\n",
       " 18.0,\n",
       " 19.0,\n",
       " 20.0,\n",
       " 20.0,\n",
       " 21.0,\n",
       " 21.0,\n",
       " 21.0,\n",
       " 21.0,\n",
       " 22.0,\n",
       " 23.0,\n",
       " 23.0,\n",
       " 24.0,\n",
       " 24.0,\n",
       " 25.0,\n",
       " 26.0,\n",
       " 28.0,\n",
       " 28.0,\n",
       " 28.0,\n",
       " 28.0,\n",
       " 28.0,\n",
       " 28.0,\n",
       " 28.0,\n",
       " 29.0,\n",
       " 30.0,\n",
       " 31.0,\n",
       " 31.0,\n",
       " 32.0,\n",
       " 33.0,\n",
       " 34.0,\n",
       " 34.0,\n",
       " 34.0,\n",
       " 36.0,\n",
       " 39.0,\n",
       " 42.0,\n",
       " 44.0,\n",
       " 45.0,\n",
       " 46.0,\n",
       " 50.0,\n",
       " 51.0,\n",
       " nan,\n",
       " nan,\n",
       " nan,\n",
       " nan,\n",
       " nan,\n",
       " nan,\n",
       " nan,\n",
       " nan,\n",
       " nan,\n",
       " 64.0,\n",
       " nan,\n",
       " 0.75,\n",
       " 5.0,\n",
       " 9.0,\n",
       " 9.0,\n",
       " 17.0,\n",
       " 21.0,\n",
       " 21.0,\n",
       " 21.0,\n",
       " 22.0,\n",
       " 22.0,\n",
       " 23.0,\n",
       " 24.0,\n",
       " 25.0,\n",
       " 25.0,\n",
       " 29.0,\n",
       " 30.0,\n",
       " 30.0,\n",
       " 33.0,\n",
       " 34.0,\n",
       " 34.0,\n",
       " 35.0,\n",
       " 36.0,\n",
       " 37.0,\n",
       " 38.0,\n",
       " 38.0,\n",
       " 47.0,\n",
       " 52.0,\n",
       " nan,\n",
       " 48.0,\n",
       " 48.0,\n",
       " 49.0,\n",
       " nan,\n",
       " 50.0,\n",
       " 56.0,\n",
       " 65.0,\n",
       " nan,\n",
       " nan,\n",
       " nan,\n",
       " nan,\n",
       " nan,\n",
       " nan,\n",
       " nan,\n",
       " 2.0,\n",
       " 29.0,\n",
       " nan,\n",
       " 50.0,\n",
       " 54.0,\n",
       " 58.0,\n",
       " 63.0,\n",
       " nan,\n",
       " nan,\n",
       " 55.0,\n",
       " 71.0,\n",
       " nan,\n",
       " nan,\n",
       " nan,\n",
       " 8.0,\n",
       " 9.0,\n",
       " 16.0,\n",
       " 17.0,\n",
       " 18.0,\n",
       " 19.0,\n",
       " 22.0,\n",
       " 22.0,\n",
       " 22.0,\n",
       " 26.0,\n",
       " 29.0,\n",
       " 33.0,\n",
       " nan,\n",
       " 28.0,\n",
       " nan,\n",
       " 2.0,\n",
       " 7.0,\n",
       " 11.0,\n",
       " 17.0,\n",
       " 22.0,\n",
       " 23.0,\n",
       " 24.0,\n",
       " 27.0,\n",
       " 30.0,\n",
       " 30.0,\n",
       " 30.0,\n",
       " 32.0,\n",
       " 32.0,\n",
       " 34.0,\n",
       " 36.0,\n",
       " 36.0,\n",
       " 36.0,\n",
       " 39.0,\n",
       " 40.5,\n",
       " 45.0,\n",
       " 47.0,\n",
       " 50.0,\n",
       " 54.0,\n",
       " nan,\n",
       " nan,\n",
       " 44.0,\n",
       " nan,\n",
       " nan,\n",
       " nan,\n",
       " nan,\n",
       " nan,\n",
       " 33.0,\n",
       " 36.0,\n",
       " 39.0,\n",
       " 48.0,\n",
       " 50.0,\n",
       " 62.0,\n",
       " 64.0,\n",
       " nan,\n",
       " nan,\n",
       " nan,\n",
       " nan,\n",
       " 19.0,\n",
       " 24.0,\n",
       " 28.0,\n",
       " 32.0,\n",
       " 40.0,\n",
       " nan,\n",
       " nan,\n",
       " 29.0,\n",
       " nan,\n",
       " 16.0,\n",
       " 18.0,\n",
       " 19.0,\n",
       " 22.0,\n",
       " 22.0,\n",
       " 24.0,\n",
       " 24.0,\n",
       " 25.0,\n",
       " 27.0,\n",
       " 30.0,\n",
       " 32.0,\n",
       " 34.0,\n",
       " 35.0,\n",
       " 35.0,\n",
       " 36.0,\n",
       " 36.0,\n",
       " 36.0,\n",
       " 36.0,\n",
       " 37.0,\n",
       " 39.0,\n",
       " 47.0,\n",
       " 49.0,\n",
       " 53.0,\n",
       " 62.0,\n",
       " nan,\n",
       " nan,\n",
       " 39.0,\n",
       " 39.0,\n",
       " 47.0,\n",
       " 54.0,\n",
       " nan,\n",
       " 60.0,\n",
       " nan,\n",
       " 35.0,\n",
       " 52.0,\n",
       " nan,\n",
       " nan,\n",
       " 49.0,\n",
       " nan,\n",
       " nan,\n",
       " nan,\n",
       " 40.0,\n",
       " 44.0,\n",
       " nan,\n",
       " nan,\n",
       " nan,\n",
       " 0.75,\n",
       " 2.0,\n",
       " 4.0,\n",
       " 9.0,\n",
       " 18.0,\n",
       " 18.0,\n",
       " 19.0,\n",
       " 20.0,\n",
       " 20.0,\n",
       " 20.0,\n",
       " 21.0,\n",
       " 21.0,\n",
       " 21.0,\n",
       " 21.0,\n",
       " 23.0,\n",
       " 23.0,\n",
       " 24.0,\n",
       " 24.0,\n",
       " 25.0,\n",
       " 26.0,\n",
       " 26.0,\n",
       " 26.0,\n",
       " 27.0,\n",
       " 28.0,\n",
       " 31.0,\n",
       " 31.0,\n",
       " 32.0,\n",
       " 32.0,\n",
       " 32.0,\n",
       " 32.0,\n",
       " 34.0,\n",
       " 36.0,\n",
       " 40.0,\n",
       " 40.0,\n",
       " 41.0,\n",
       " 42.0,\n",
       " 43.0,\n",
       " 47.0,\n",
       " 48.0,\n",
       " 50.0,\n",
       " 51.0,\n",
       " 56.0,\n",
       " 57.0,\n",
       " 61.0,\n",
       " nan,\n",
       " 80.0,\n",
       " nan,\n",
       " nan,\n",
       " nan,\n",
       " nan,\n",
       " nan,\n",
       " nan,\n",
       " nan,\n",
       " 58.0,\n",
       " nan,\n",
       " nan,\n",
       " 4.0,\n",
       " 6.0,\n",
       " 14.0,\n",
       " 14.0,\n",
       " 15.0,\n",
       " 17.0,\n",
       " 18.0,\n",
       " 18.0,\n",
       " 18.0,\n",
       " 18.0,\n",
       " 18.0,\n",
       " 19.0,\n",
       " 19.0,\n",
       " 20.0,\n",
       " 20.0,\n",
       " 22.0,\n",
       " 24.0,\n",
       " 24.5,\n",
       " 25.0,\n",
       " 25.0,\n",
       " 25.0,\n",
       " 26.0,\n",
       " 27.0,\n",
       " 27.0,\n",
       " 27.0,\n",
       " 29.0,\n",
       " 30.0,\n",
       " 31.0,\n",
       " 31.0,\n",
       " 35.0,\n",
       " 70.0,\n",
       " nan,\n",
       " 33.0,\n",
       " 34.0,\n",
       " 36.0,\n",
       " 38.0,\n",
       " 39.0,\n",
       " 43.0,\n",
       " nan,\n",
       " 42.0,\n",
       " 42.0,\n",
       " 44.0,\n",
       " 52.0,\n",
       " 60.0,\n",
       " nan,\n",
       " 60.0,\n",
       " nan,\n",
       " 45.0,\n",
       " 49.0,\n",
       " nan,\n",
       " nan,\n",
       " 48.0,\n",
       " 52.0,\n",
       " nan,\n",
       " 50.0,\n",
       " nan,\n",
       " 0.67,\n",
       " 4.0,\n",
       " 5.0,\n",
       " 6.0,\n",
       " 11.0,\n",
       " 13.0,\n",
       " 16.0,\n",
       " 16.0,\n",
       " 17.0,\n",
       " 18.0,\n",
       " 19.0,\n",
       " 20.0,\n",
       " 23.0,\n",
       " 23.0,\n",
       " 23.0,\n",
       " 25.0,\n",
       " 25.0,\n",
       " 28.0,\n",
       " 28.5,\n",
       " 29.0,\n",
       " nan,\n",
       " 18.0,\n",
       " 24.0,\n",
       " 29.0,\n",
       " 30.0,\n",
       " 30.5,\n",
       " 31.0,\n",
       " 35.0,\n",
       " 43.0,\n",
       " 48.0,\n",
       " nan,\n",
       " nan,\n",
       " nan,\n",
       " 21.0,\n",
       " 24.0,\n",
       " 31.0,\n",
       " 32.0,\n",
       " 33.0,\n",
       " 33.0,\n",
       " 34.0,\n",
       " 36.0,\n",
       " 36.0,\n",
       " 41.0,\n",
       " 48.0,\n",
       " 48.0,\n",
       " 51.0,\n",
       " 70.0,\n",
       " nan,\n",
       " nan,\n",
       " nan,\n",
       " 54.0,\n",
       " 57.0,\n",
       " nan,\n",
       " nan,\n",
       " nan,\n",
       " nan,\n",
       " 0.42,\n",
       " 0.83,\n",
       " 1.0,\n",
       " 1.0,\n",
       " 2.0,\n",
       " 6.0,\n",
       " 8.0,\n",
       " 10.0,\n",
       " 11.0,\n",
       " 15.0,\n",
       " 16.0,\n",
       " 18.0,\n",
       " 18.0,\n",
       " 18.0,\n",
       " 21.0,\n",
       " 23.0,\n",
       " 23.0,\n",
       " 25.0,\n",
       " 25.0,\n",
       " 26.0,\n",
       " 27.0,\n",
       " 27.0,\n",
       " 27.0,\n",
       " 30.0,\n",
       " 30.0,\n",
       " 30.5,\n",
       " 31.0,\n",
       " 32.0,\n",
       " 35.0,\n",
       " 46.0,\n",
       " nan,\n",
       " nan,\n",
       " nan,\n",
       " 25.0,\n",
       " 31.0,\n",
       " 31.0,\n",
       " 31.0,\n",
       " 33.0,\n",
       " 34.0,\n",
       " 38.0,\n",
       " 39.0,\n",
       " 39.0,\n",
       " 39.0,\n",
       " 39.0,\n",
       " 39.0,\n",
       " 43.0,\n",
       " 49.0,\n",
       " nan,\n",
       " 52.0,\n",
       " nan,\n",
       " nan,\n",
       " nan,\n",
       " 62.0,\n",
       " nan,\n",
       " nan,\n",
       " nan,\n",
       " 4.0,\n",
       " 4.0,\n",
       " 9.0,\n",
       " 15.0,\n",
       " 16.0,\n",
       " 16.0,\n",
       " 17.0,\n",
       " 18.0,\n",
       " 19.0,\n",
       " 19.0,\n",
       " 20.0,\n",
       " 20.0,\n",
       " 21.0,\n",
       " 22.0,\n",
       " 24.0,\n",
       " 24.0,\n",
       " 25.0,\n",
       " 25.0,\n",
       " 26.0,\n",
       " 26.0,\n",
       " 27.0,\n",
       " 27.0,\n",
       " 28.0,\n",
       " 28.0,\n",
       " 28.0,\n",
       " 30.0,\n",
       " 31.0,\n",
       " 33.0,\n",
       " 34.5,\n",
       " 35.0,\n",
       " 42.0,\n",
       " nan,\n",
       " nan,\n",
       " 32.0,\n",
       " 33.0,\n",
       " 39.0,\n",
       " 41.0,\n",
       " 42.0,\n",
       " 44.0,\n",
       " 45.0,\n",
       " 47.0,\n",
       " 47.0,\n",
       " 48.0,\n",
       " 51.0,\n",
       " 56.0,\n",
       " 74.0,\n",
       " nan,\n",
       " nan,\n",
       " nan,\n",
       " nan,\n",
       " nan]"
      ]
     },
     "execution_count": 21,
     "metadata": {},
     "output_type": "execute_result"
    }
   ],
   "source": [
    "#sorted(titanic['Age'])"
   ]
  },
  {
   "cell_type": "markdown",
   "id": "0c48d8bc",
   "metadata": {},
   "source": [
    "### Questão 4"
   ]
  },
  {
   "cell_type": "markdown",
   "id": "02b13cc4",
   "metadata": {},
   "source": [
    "Os exercícios de 1 a 5 serão desenvolvidos utilizando o _dataset_ `Titanic.csv`:\n",
    "    \n",
    "Crie um gráfico da dispersão das idades dos passageiros do _Titanic_ e identifique os pontos onde se encontram a média, mediana e moda das idades."
   ]
  },
  {
   "cell_type": "code",
   "execution_count": 43,
   "id": "379adf78",
   "metadata": {
    "ExecuteTime": {
     "end_time": "2021-10-11T20:13:29.393458Z",
     "start_time": "2021-10-11T20:13:29.098462Z"
    }
   },
   "outputs": [
    {
     "data": {
      "image/png": "[encoded data removed]",
      "text/plain": [
       "<Figure size 864x432 with 1 Axes>"
      ]
     },
     "metadata": {
      "needs_background": "light"
     },
     "output_type": "display_data"
    }
   ],
   "source": [
    "# Define o tamanho da figura\n",
    "plt.figure(figsize=(12, 6))\n",
    "\n",
    "# Define o Titulo\n",
    "plt.title(\"Distribuição das idades dos passageiros\", size=18)\n",
    "\n",
    "# Plot do Histograma\n",
    "sns.histplot(titanic['Age'], kde=True, alpha=0.2)\n",
    "\n",
    "# plotando média\n",
    "plt.axvline(x=titanic['Age'].mean(), color=\"red\", label=\"média\")\n",
    "\n",
    "# plotando a mediana\n",
    "plt.axvline(titanic['Age'].median(), color=\"green\", label=\"mediana\")\n",
    "\n",
    "# Loop para plotar as modas\n",
    "for i in range(titanic['Age'].mode().shape[0]):\n",
    "    plt.axvline(titanic['Age'].mode()[i], color=\"yellow\", label=\"moda\")\n",
    "\n",
    "plt.axvline(titanic['Age'].quantile(0.25), color=\"orange\", label=\"q1\")\n",
    "plt.axvline(titanic['Age'].quantile(0.75), color=\"pink\", label=\"q3\")\n",
    "\n",
    "# Cria uma legenda\n",
    "plt.legend()\n",
    "\n",
    "# Mostra o Gráfico\n",
    "plt.show()"
   ]
  },
  {
   "cell_type": "markdown",
   "id": "43458232",
   "metadata": {},
   "source": [
    "### Questão 5"
   ]
  },
  {
   "cell_type": "markdown",
   "id": "a722484e",
   "metadata": {},
   "source": [
    "Os exercícios de 1 a 5 serão desenvolvidos utilizando o _dataset_ `Titanic.csv`:\n",
    "    \n",
    "Ainda trabalhando com os valores das idades crie três _Boxplots_:\n",
    "- _Boxplot_ das idades para todos os passageiros;\n",
    "- _Boxplot_ das idades dos passageiros separados pelo sexo.\n",
    "- _Boxplot_ das idades dos passageiros separados pelo sexo e por sobreviventes."
   ]
  },
  {
   "cell_type": "code",
   "execution_count": 42,
   "id": "2924a6b8",
   "metadata": {
    "ExecuteTime": {
     "end_time": "2021-10-11T20:10:19.483302Z",
     "start_time": "2021-10-11T20:10:19.377338Z"
    }
   },
   "outputs": [
    {
     "data": {
      "image/png": "[encoded data removed]",
      "text/plain": [
       "<Figure size 432x288 with 1 Axes>"
      ]
     },
     "metadata": {
      "needs_background": "light"
     },
     "output_type": "display_data"
    }
   ],
   "source": [
    "#- _Boxplot_ das idades para todos os passageiros;\n",
    "plt.boxplot(amostra, meanline=False) \n",
    "plt.show() "
   ]
  },
  {
   "cell_type": "code",
   "execution_count": 40,
   "id": "7669d156",
   "metadata": {
    "ExecuteTime": {
     "end_time": "2021-10-11T20:08:44.999605Z",
     "start_time": "2021-10-11T20:08:44.872595Z"
    }
   },
   "outputs": [
    {
     "data": {
      "image/png": "[encoded data removed]",
      "text/plain": [
       "<Figure size 432x288 with 1 Axes>"
      ]
     },
     "metadata": {
      "needs_background": "light"
     },
     "output_type": "display_data"
    }
   ],
   "source": [
    "#- _Boxplot_ das idades dos passageiros separados pelo sexo.\n",
    "sns.boxplot(x=titanic['Sex'], y=titanic['Age'], data=pd.melt(titanic))\n",
    "\n",
    "plt.show() "
   ]
  },
  {
   "cell_type": "code",
   "execution_count": 91,
   "id": "cc71f8cb",
   "metadata": {
    "ExecuteTime": {
     "end_time": "2021-10-13T13:02:37.199365Z",
     "start_time": "2021-10-13T13:02:36.967420Z"
    }
   },
   "outputs": [
    {
     "data": {
      "image/png": "[encoded data removed]",
      "text/plain": [
       "<Figure size 1440x432 with 2 Axes>"
      ]
     },
     "metadata": {
      "needs_background": "light"
     },
     "output_type": "display_data"
    }
   ],
   "source": [
    "#- _Boxplot_ das idades dos passageiros separados pelo sexo e por sobreviventes.\n",
    "\n",
    "fig, ax = plt.subplots(1, 2, figsize=(20, 6))\n",
    "\n",
    "sns.boxplot(x=titanic['Sex'], y=titanic['Age'], data=pd.melt(titanic), ax=ax[0])\n",
    "sns.boxplot(x=titanic['Survived'], y=titanic['Age'], data=pd.melt(titanic, value_vars=['Sex']), ax=ax[1])\n",
    "\n",
    "plt.show() "
   ]
  },
  {
   "cell_type": "code",
   "execution_count": 53,
   "id": "47eaa90d",
   "metadata": {
    "ExecuteTime": {
     "end_time": "2021-10-11T20:29:51.381018Z",
     "start_time": "2021-10-11T20:29:51.350030Z"
    }
   },
   "outputs": [
    {
     "data": {
      "text/html": [
       "<div>\n",
       "<style scoped>\n",
       "    .dataframe tbody tr th:only-of-type {\n",
       "        vertical-align: middle;\n",
       "    }\n",
       "\n",
       "    .dataframe tbody tr th {\n",
       "        vertical-align: top;\n",
       "    }\n",
       "\n",
       "    .dataframe thead th {\n",
       "        text-align: right;\n",
       "    }\n",
       "</style>\n",
       "<table border=\"1\" class=\"dataframe\">\n",
       "  <thead>\n",
       "    <tr style=\"text-align: right;\">\n",
       "      <th></th>\n",
       "      <th>Sex</th>\n",
       "      <th>variable</th>\n",
       "      <th>value</th>\n",
       "    </tr>\n",
       "  </thead>\n",
       "  <tbody>\n",
       "    <tr>\n",
       "      <th>0</th>\n",
       "      <td>male</td>\n",
       "      <td>Survived</td>\n",
       "      <td>0</td>\n",
       "    </tr>\n",
       "    <tr>\n",
       "      <th>1</th>\n",
       "      <td>female</td>\n",
       "      <td>Survived</td>\n",
       "      <td>1</td>\n",
       "    </tr>\n",
       "    <tr>\n",
       "      <th>2</th>\n",
       "      <td>female</td>\n",
       "      <td>Survived</td>\n",
       "      <td>1</td>\n",
       "    </tr>\n",
       "    <tr>\n",
       "      <th>3</th>\n",
       "      <td>female</td>\n",
       "      <td>Survived</td>\n",
       "      <td>1</td>\n",
       "    </tr>\n",
       "    <tr>\n",
       "      <th>4</th>\n",
       "      <td>male</td>\n",
       "      <td>Survived</td>\n",
       "      <td>0</td>\n",
       "    </tr>\n",
       "    <tr>\n",
       "      <th>...</th>\n",
       "      <td>...</td>\n",
       "      <td>...</td>\n",
       "      <td>...</td>\n",
       "    </tr>\n",
       "    <tr>\n",
       "      <th>886</th>\n",
       "      <td>male</td>\n",
       "      <td>Survived</td>\n",
       "      <td>0</td>\n",
       "    </tr>\n",
       "    <tr>\n",
       "      <th>887</th>\n",
       "      <td>female</td>\n",
       "      <td>Survived</td>\n",
       "      <td>1</td>\n",
       "    </tr>\n",
       "    <tr>\n",
       "      <th>888</th>\n",
       "      <td>female</td>\n",
       "      <td>Survived</td>\n",
       "      <td>0</td>\n",
       "    </tr>\n",
       "    <tr>\n",
       "      <th>889</th>\n",
       "      <td>male</td>\n",
       "      <td>Survived</td>\n",
       "      <td>1</td>\n",
       "    </tr>\n",
       "    <tr>\n",
       "      <th>890</th>\n",
       "      <td>male</td>\n",
       "      <td>Survived</td>\n",
       "      <td>0</td>\n",
       "    </tr>\n",
       "  </tbody>\n",
       "</table>\n",
       "<p>891 rows × 3 columns</p>\n",
       "</div>"
      ],
      "text/plain": [
       "        Sex  variable  value\n",
       "0      male  Survived      0\n",
       "1    female  Survived      1\n",
       "2    female  Survived      1\n",
       "3    female  Survived      1\n",
       "4      male  Survived      0\n",
       "..      ...       ...    ...\n",
       "886    male  Survived      0\n",
       "887  female  Survived      1\n",
       "888  female  Survived      0\n",
       "889    male  Survived      1\n",
       "890    male  Survived      0\n",
       "\n",
       "[891 rows x 3 columns]"
      ]
     },
     "execution_count": 53,
     "metadata": {},
     "output_type": "execute_result"
    }
   ],
   "source": [
    "pd.melt(titanic,id_vars=['Sex'], value_vars=['Survived'])"
   ]
  },
  {
   "cell_type": "markdown",
   "id": "d0eda9fb",
   "metadata": {
    "ExecuteTime": {
     "end_time": "2021-10-08T18:58:25.038529Z",
     "start_time": "2021-10-08T18:58:25.027559Z"
    }
   },
   "source": [
    "Com o dataset `penguins`, responda as questões abaixo:\n",
    "\n",
    "sns.load_dataset('penguins')"
   ]
  },
  {
   "cell_type": "markdown",
   "id": "9060a1ca",
   "metadata": {},
   "source": [
    "### Questão 6"
   ]
  },
  {
   "cell_type": "markdown",
   "id": "e8e2272c",
   "metadata": {},
   "source": [
    "Classifique o tipo de dado de cada coluna"
   ]
  },
  {
   "cell_type": "code",
   "execution_count": 44,
   "id": "6c8561b5",
   "metadata": {
    "ExecuteTime": {
     "end_time": "2021-10-11T20:16:01.312701Z",
     "start_time": "2021-10-11T20:16:01.280698Z"
    }
   },
   "outputs": [
    {
     "data": {
      "text/html": [
       "<div>\n",
       "<style scoped>\n",
       "    .dataframe tbody tr th:only-of-type {\n",
       "        vertical-align: middle;\n",
       "    }\n",
       "\n",
       "    .dataframe tbody tr th {\n",
       "        vertical-align: top;\n",
       "    }\n",
       "\n",
       "    .dataframe thead th {\n",
       "        text-align: right;\n",
       "    }\n",
       "</style>\n",
       "<table border=\"1\" class=\"dataframe\">\n",
       "  <thead>\n",
       "    <tr style=\"text-align: right;\">\n",
       "      <th></th>\n",
       "      <th>species</th>\n",
       "      <th>island</th>\n",
       "      <th>bill_length_mm</th>\n",
       "      <th>bill_depth_mm</th>\n",
       "      <th>flipper_length_mm</th>\n",
       "      <th>body_mass_g</th>\n",
       "      <th>sex</th>\n",
       "    </tr>\n",
       "  </thead>\n",
       "  <tbody>\n",
       "    <tr>\n",
       "      <th>0</th>\n",
       "      <td>Adelie</td>\n",
       "      <td>Torgersen</td>\n",
       "      <td>39.1</td>\n",
       "      <td>18.7</td>\n",
       "      <td>181.0</td>\n",
       "      <td>3750.0</td>\n",
       "      <td>Male</td>\n",
       "    </tr>\n",
       "    <tr>\n",
       "      <th>1</th>\n",
       "      <td>Adelie</td>\n",
       "      <td>Torgersen</td>\n",
       "      <td>39.5</td>\n",
       "      <td>17.4</td>\n",
       "      <td>186.0</td>\n",
       "      <td>3800.0</td>\n",
       "      <td>Female</td>\n",
       "    </tr>\n",
       "    <tr>\n",
       "      <th>2</th>\n",
       "      <td>Adelie</td>\n",
       "      <td>Torgersen</td>\n",
       "      <td>40.3</td>\n",
       "      <td>18.0</td>\n",
       "      <td>195.0</td>\n",
       "      <td>3250.0</td>\n",
       "      <td>Female</td>\n",
       "    </tr>\n",
       "    <tr>\n",
       "      <th>3</th>\n",
       "      <td>Adelie</td>\n",
       "      <td>Torgersen</td>\n",
       "      <td>NaN</td>\n",
       "      <td>NaN</td>\n",
       "      <td>NaN</td>\n",
       "      <td>NaN</td>\n",
       "      <td>NaN</td>\n",
       "    </tr>\n",
       "    <tr>\n",
       "      <th>4</th>\n",
       "      <td>Adelie</td>\n",
       "      <td>Torgersen</td>\n",
       "      <td>36.7</td>\n",
       "      <td>19.3</td>\n",
       "      <td>193.0</td>\n",
       "      <td>3450.0</td>\n",
       "      <td>Female</td>\n",
       "    </tr>\n",
       "  </tbody>\n",
       "</table>\n",
       "</div>"
      ],
      "text/plain": [
       "  species     island  bill_length_mm  bill_depth_mm  flipper_length_mm  \\\n",
       "0  Adelie  Torgersen            39.1           18.7              181.0   \n",
       "1  Adelie  Torgersen            39.5           17.4              186.0   \n",
       "2  Adelie  Torgersen            40.3           18.0              195.0   \n",
       "3  Adelie  Torgersen             NaN            NaN                NaN   \n",
       "4  Adelie  Torgersen            36.7           19.3              193.0   \n",
       "\n",
       "   body_mass_g     sex  \n",
       "0       3750.0    Male  \n",
       "1       3800.0  Female  \n",
       "2       3250.0  Female  \n",
       "3          NaN     NaN  \n",
       "4       3450.0  Female  "
      ]
     },
     "execution_count": 44,
     "metadata": {},
     "output_type": "execute_result"
    }
   ],
   "source": [
    "penguins = sns.load_dataset('penguins')\n",
    "penguins.head()"
   ]
  },
  {
   "cell_type": "code",
   "execution_count": 62,
   "id": "2f4fbdf8",
   "metadata": {
    "ExecuteTime": {
     "end_time": "2021-10-11T20:39:26.487061Z",
     "start_time": "2021-10-11T20:39:26.467063Z"
    }
   },
   "outputs": [
    {
     "name": "stdout",
     "output_type": "stream",
     "text": [
      "<class 'pandas.core.frame.DataFrame'>\n",
      "RangeIndex: 344 entries, 0 to 343\n",
      "Data columns (total 7 columns):\n",
      " #   Column             Non-Null Count  Dtype  \n",
      "---  ------             --------------  -----  \n",
      " 0   species            344 non-null    object \n",
      " 1   island             344 non-null    object \n",
      " 2   bill_length_mm     342 non-null    float64\n",
      " 3   bill_depth_mm      342 non-null    float64\n",
      " 4   flipper_length_mm  342 non-null    float64\n",
      " 5   body_mass_g        342 non-null    float64\n",
      " 6   sex                333 non-null    object \n",
      "dtypes: float64(4), object(3)\n",
      "memory usage: 18.9+ KB\n"
     ]
    }
   ],
   "source": [
    "#penguins.info()\n",
    "#species = qualitativo , nominal\n",
    "#island = qualitativo , nominal\n",
    "#sex = qualitativo , nominal\n",
    "#bill_length_mm = quantitativo , continuo\n",
    "#bill_depth_mm = quantitativo , continuo\n",
    "#flipper_length_mm = quantitativo , continuo\n",
    "#body_mass_g = quantitativo , continuo"
   ]
  },
  {
   "cell_type": "markdown",
   "id": "cd8fe357",
   "metadata": {},
   "source": [
    "### Questão 7\n",
    "Calcule a frequência absoluta para cada espécie de pinguim"
   ]
  },
  {
   "cell_type": "code",
   "execution_count": 64,
   "id": "820b61a5",
   "metadata": {
    "ExecuteTime": {
     "end_time": "2021-10-11T20:46:02.773613Z",
     "start_time": "2021-10-11T20:46:02.754651Z"
    }
   },
   "outputs": [
    {
     "data": {
      "text/plain": [
       "Adelie       152\n",
       "Gentoo       124\n",
       "Chinstrap     68\n",
       "Name: species, dtype: int64"
      ]
     },
     "execution_count": 64,
     "metadata": {},
     "output_type": "execute_result"
    }
   ],
   "source": [
    "penguins['species'].value_counts()"
   ]
  },
  {
   "cell_type": "markdown",
   "id": "620b2761",
   "metadata": {
    "ExecuteTime": {
     "end_time": "2021-10-08T19:01:38.859000Z",
     "start_time": "2021-10-08T19:01:38.844322Z"
    }
   },
   "source": [
    "### Questão 8\n",
    "Calcule a frequência relativa, relativa percentual e acumulativa para os sobreviventes no Titanic"
   ]
  },
  {
   "cell_type": "code",
   "execution_count": 63,
   "id": "4e52e2ba",
   "metadata": {
    "ExecuteTime": {
     "end_time": "2021-10-11T20:45:54.954575Z",
     "start_time": "2021-10-11T20:45:54.937537Z"
    }
   },
   "outputs": [
    {
     "data": {
      "text/html": [
       "<div>\n",
       "<style scoped>\n",
       "    .dataframe tbody tr th:only-of-type {\n",
       "        vertical-align: middle;\n",
       "    }\n",
       "\n",
       "    .dataframe tbody tr th {\n",
       "        vertical-align: top;\n",
       "    }\n",
       "\n",
       "    .dataframe thead th {\n",
       "        text-align: right;\n",
       "    }\n",
       "</style>\n",
       "<table border=\"1\" class=\"dataframe\">\n",
       "  <thead>\n",
       "    <tr style=\"text-align: right;\">\n",
       "      <th></th>\n",
       "      <th>freq</th>\n",
       "      <th>freq_relativa</th>\n",
       "    </tr>\n",
       "  </thead>\n",
       "  <tbody>\n",
       "    <tr>\n",
       "      <th>Adelie</th>\n",
       "      <td>152</td>\n",
       "      <td>0.441860</td>\n",
       "    </tr>\n",
       "    <tr>\n",
       "      <th>Gentoo</th>\n",
       "      <td>124</td>\n",
       "      <td>0.360465</td>\n",
       "    </tr>\n",
       "    <tr>\n",
       "      <th>Chinstrap</th>\n",
       "      <td>68</td>\n",
       "      <td>0.197674</td>\n",
       "    </tr>\n",
       "  </tbody>\n",
       "</table>\n",
       "</div>"
      ],
      "text/plain": [
       "           freq  freq_relativa\n",
       "Adelie      152       0.441860\n",
       "Gentoo      124       0.360465\n",
       "Chinstrap    68       0.197674"
      ]
     },
     "execution_count": 63,
     "metadata": {},
     "output_type": "execute_result"
    }
   ],
   "source": [
    "freq_table = pd.concat([penguins['species'].value_counts(),\n",
    "                        penguins['species'].value_counts(normalize = True)],\n",
    "                       axis = 1,\n",
    "                       keys = (\"freq\", \"freq_relativa\"))\n",
    "freq_table"
   ]
  },
  {
   "cell_type": "code",
   "execution_count": 65,
   "id": "411e82c1",
   "metadata": {
    "ExecuteTime": {
     "end_time": "2021-10-11T20:46:47.065896Z",
     "start_time": "2021-10-11T20:46:47.043853Z"
    }
   },
   "outputs": [
    {
     "data": {
      "text/html": [
       "<div>\n",
       "<style scoped>\n",
       "    .dataframe tbody tr th:only-of-type {\n",
       "        vertical-align: middle;\n",
       "    }\n",
       "\n",
       "    .dataframe tbody tr th {\n",
       "        vertical-align: top;\n",
       "    }\n",
       "\n",
       "    .dataframe thead th {\n",
       "        text-align: right;\n",
       "    }\n",
       "</style>\n",
       "<table border=\"1\" class=\"dataframe\">\n",
       "  <thead>\n",
       "    <tr style=\"text-align: right;\">\n",
       "      <th></th>\n",
       "      <th>freq</th>\n",
       "      <th>freq_relativa</th>\n",
       "      <th>freq_percentual</th>\n",
       "      <th>freq_acumulada</th>\n",
       "    </tr>\n",
       "  </thead>\n",
       "  <tbody>\n",
       "    <tr>\n",
       "      <th>Adelie</th>\n",
       "      <td>152</td>\n",
       "      <td>0.441860</td>\n",
       "      <td>44.186047</td>\n",
       "      <td>44.186047</td>\n",
       "    </tr>\n",
       "    <tr>\n",
       "      <th>Gentoo</th>\n",
       "      <td>124</td>\n",
       "      <td>0.360465</td>\n",
       "      <td>36.046512</td>\n",
       "      <td>80.232558</td>\n",
       "    </tr>\n",
       "    <tr>\n",
       "      <th>Chinstrap</th>\n",
       "      <td>68</td>\n",
       "      <td>0.197674</td>\n",
       "      <td>19.767442</td>\n",
       "      <td>100.000000</td>\n",
       "    </tr>\n",
       "  </tbody>\n",
       "</table>\n",
       "</div>"
      ],
      "text/plain": [
       "           freq  freq_relativa  freq_percentual  freq_acumulada\n",
       "Adelie      152       0.441860        44.186047       44.186047\n",
       "Gentoo      124       0.360465        36.046512       80.232558\n",
       "Chinstrap    68       0.197674        19.767442      100.000000"
      ]
     },
     "execution_count": 65,
     "metadata": {},
     "output_type": "execute_result"
    }
   ],
   "source": [
    "freq_table['freq_percentual'] = freq_table['freq_relativa']*100\n",
    "freq_table \n",
    "freq_table['freq_acumulada'] = freq_table['freq_percentual'].cumsum()\n",
    "freq_table "
   ]
  },
  {
   "cell_type": "markdown",
   "id": "8c784572",
   "metadata": {},
   "source": [
    "### Questão 9\n",
    "Utilizando a coluna `body_mass_g` do dataset Penguins, defina as principais métricas estatísticas para essa variável tais como:\n",
    "\n",
    "- Média;\n",
    "- Desvio Padrão;\n",
    "- Mínimo;\n",
    "- Primeiro Quartil;\n",
    "- Segundo Quartil (Mediana);\n",
    "- Terceiro Quartil;\n",
    "- Distância Interquartil (IQR);\n",
    "- Máximo;\n",
    "- Skewness;\n",
    "- Moda."
   ]
  },
  {
   "cell_type": "code",
   "execution_count": 69,
   "id": "2ac54e8c",
   "metadata": {
    "ExecuteTime": {
     "end_time": "2021-10-11T20:49:05.096675Z",
     "start_time": "2021-10-11T20:49:05.078674Z"
    }
   },
   "outputs": [
    {
     "name": "stdout",
     "output_type": "stream",
     "text": [
      "Peso médio: 4201.754385964912\n",
      "\n",
      "Desvio padrão: 801.9545356980954\n",
      "\n",
      "Menor peso: 2700.0\n",
      "\n",
      "Q1: 3550.0\n",
      "\n",
      "Q2: 4050.0\n",
      "\n",
      "Q3: 4750.0\n",
      "\n",
      "IQR: 1200.0\n",
      "\n",
      "Maior peso: 6300.0\n",
      "\n",
      "Skewness: 0.4703293304801231\n",
      "\n",
      "Moda dos dados e sua frequencia: ModeResult(mode=array([3800.]), count=array([12]))\n"
     ]
    }
   ],
   "source": [
    "print('Peso médio:', penguins['body_mass_g'].mean())\n",
    "print('\\nDesvio padrão:', penguins['body_mass_g'].std())\n",
    "print('\\nMenor peso:', penguins['body_mass_g'].min()) \n",
    "amostra =  penguins[ penguins['body_mass_g']>=0 ] ['body_mass_g']    \n",
    "print(\"\\nQ1:\", np.quantile(amostra, 0.25))\n",
    "print(\"\\nQ2:\", np.quantile(amostra, 0.50))\n",
    "print(\"\\nQ3:\", np.quantile(amostra, 0.75))\n",
    "# Calcula o intervalo interquartil\n",
    "iqr = np.quantile(amostra, 0.75) - np.quantile(amostra, 0.25)\n",
    "\n",
    "# Print do IQR\n",
    "print(\"\\nIQR:\", iqr)  \n",
    "\n",
    "print('\\nMaior peso:', penguins['body_mass_g'].max()) \n",
    "print(\"\\nSkewness:\", pd.Series(amostra).skew())\n",
    "from scipy import stats\n",
    "print(\"\\nModa dos dados e sua frequencia:\", stats.mode(amostra))  "
   ]
  },
  {
   "cell_type": "markdown",
   "id": "13c53261",
   "metadata": {},
   "source": [
    "### Questão 10\n",
    "Crie um gráfico da dispersão da massa dos pinguins e identifique os pontos onde se encontram a média, mediana e moda das idades."
   ]
  },
  {
   "cell_type": "code",
   "execution_count": 70,
   "id": "10ac9d4d",
   "metadata": {
    "ExecuteTime": {
     "end_time": "2021-10-11T20:50:44.692705Z",
     "start_time": "2021-10-11T20:50:44.464741Z"
    }
   },
   "outputs": [
    {
     "data": {
      "image/png": "[encoded data removed]",
      "text/plain": [
       "<Figure size 864x432 with 1 Axes>"
      ]
     },
     "metadata": {
      "needs_background": "light"
     },
     "output_type": "display_data"
    }
   ],
   "source": [
    "# Define o tamanho da figura\n",
    "plt.figure(figsize=(12, 6))\n",
    "\n",
    "# Define o Titulo\n",
    "plt.title(\"Distribuição das massas dos pinguins\", size=18)\n",
    "\n",
    "# Plot do Histograma\n",
    "sns.histplot(penguins['body_mass_g'], kde=True, alpha=0.2)\n",
    "\n",
    "# plotando média\n",
    "plt.axvline(x=penguins['body_mass_g'].mean(), color=\"red\", label=\"média\")\n",
    "\n",
    "# plotando a mediana\n",
    "plt.axvline(penguins['body_mass_g'].median(), color=\"green\", label=\"mediana\")\n",
    "\n",
    "# Loop para plotar as modas\n",
    "for i in range(penguins['body_mass_g'].mode().shape[0]):\n",
    "    plt.axvline(penguins['body_mass_g'].mode()[i], color=\"yellow\", label=\"moda\")\n",
    "\n",
    "plt.axvline(penguins['body_mass_g'].quantile(0.25), color=\"orange\", label=\"q1\")\n",
    "plt.axvline(penguins['body_mass_g'].quantile(0.75), color=\"pink\", label=\"q3\")\n",
    "\n",
    "# Cria uma legenda\n",
    "plt.legend() \n",
    "\n",
    "# Mostra o Gráfico\n",
    "plt.show()"
   ]
  },
  {
   "cell_type": "markdown",
   "id": "312a2d79",
   "metadata": {
    "ExecuteTime": {
     "end_time": "2021-10-08T19:07:27.672797Z",
     "start_time": "2021-10-08T19:07:27.657230Z"
    }
   },
   "source": [
    "### Questão 11\n",
    "Ainda trabalhando com os valores das massas dos pinguins crie três Boxplots:\n",
    "\n",
    "- Boxplot das massas para todos os pinguins\n",
    "- Boxplot das massas dos pinguins separados pelo sexo.\n",
    "- Boxplot das massas dos pinguins separados pelo sexo e pela espécies."
   ]
  },
  {
   "cell_type": "code",
   "execution_count": 88,
   "id": "c82a0953",
   "metadata": {
    "ExecuteTime": {
     "end_time": "2021-10-11T21:18:06.346107Z",
     "start_time": "2021-10-11T21:18:06.067855Z"
    }
   },
   "outputs": [
    {
     "data": {
      "text/plain": [
       "<AxesSubplot:xlabel='body_mass_g', ylabel='species'>"
      ]
     },
     "execution_count": 88,
     "metadata": {},
     "output_type": "execute_result"
    },
    {
     "data": {
      "image/png": "[encoded data removed]",
      "text/plain": [
       "<Figure size 1440x432 with 3 Axes>"
      ]
     },
     "metadata": {
      "needs_background": "light"
     },
     "output_type": "display_data"
    }
   ],
   "source": [
    "fig, ax = plt.subplots(1, 3, figsize=(20, 6))\n",
    "\n",
    "sns.boxplot(x='body_mass_g', data=penguins, ax=ax[0])\n",
    "sns.boxplot(x='body_mass_g', y='sex', data=penguins, ax=ax[1])\n",
    "sns.boxplot(x='body_mass_g', y='species', data=penguins, ax=ax[2])\n",
    "#sns.boxplot(x='body_mass_g', y='body_mass_g', data=penguins, ax=ax[1][1]) \n"
   ]
  }
 ],
 "metadata": {
  "hide_input": false,
  "kernelspec": {
   "display_name": "Python 3",
   "language": "python",
   "name": "python3"
  },
  "language_info": {
   "codemirror_mode": {
    "name": "ipython",
    "version": 3
   },
   "file_extension": ".py",
   "mimetype": "text/x-python",
   "name": "python",
   "nbconvert_exporter": "python",
   "pygments_lexer": "ipython3",
   "version": "3.8.8"
  },
  "toc": {
   "base_numbering": 1,
   "nav_menu": {},
   "number_sections": true,
   "sideBar": true,
   "skip_h1_title": false,
   "title_cell": "Table of Contents",
   "title_sidebar": "Contents",
   "toc_cell": false,
   "toc_position": {},
   "toc_section_display": true,
   "toc_window_display": false
  },
  "varInspector": {
   "cols": {
    "lenName": 16,
    "lenType": 16,
    "lenVar": 40
   },
   "kernels_config": {
    "python": {
     "delete_cmd_postfix": "",
     "delete_cmd_prefix": "del ",
     "library": "var_list.py",
     "varRefreshCmd": "print(var_dic_list())"
    },
    "r": {
     "delete_cmd_postfix": ") ",
     "delete_cmd_prefix": "rm(",
     "library": "var_list.r",
     "varRefreshCmd": "cat(var_dic_list()) "
    }
   },
   "types_to_exclude": [
    "module",
    "function",
    "builtin_function_or_method",
    "instance",
    "_Feature"
   ],
   "window_display": false
  }
 },
 "nbformat": 4,
 "nbformat_minor": 5
}
