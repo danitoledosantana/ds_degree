{
 "cells": [
  {
   "cell_type": "markdown",
   "id": "ffd57103",
   "metadata": {},
   "source": [
    "# Aula 2 - Variáveis, entradas e saídas"
   ]
  },
  {
   "cell_type": "markdown",
   "id": "70e3e080",
   "metadata": {
    "ExecuteTime": {
     "end_time": "2021-06-09T22:28:08.693233Z",
     "start_time": "2021-06-09T22:28:08.678274Z"
    }
   },
   "source": [
    "* No windows: abrir o prompt\n",
    "* No mac/linux: abrir o terminal"
   ]
  },
  {
   "cell_type": "markdown",
   "id": "531623a3",
   "metadata": {
    "ExecuteTime": {
     "end_time": "2021-06-09T22:28:08.693233Z",
     "start_time": "2021-06-09T22:28:08.678274Z"
    }
   },
   "source": [
    "Se temos um ambiente, vamos entrar no ambiente e carregar o jupyter:\n",
    "\n",
    "- conda activate dsdegree\n",
    "- python -m notebook"
   ]
  },
  {
   "cell_type": "code",
   "execution_count": 19,
   "id": "dc5a85e2",
   "metadata": {
    "ExecuteTime": {
     "end_time": "2021-06-09T22:56:18.059951Z",
     "start_time": "2021-06-09T22:56:18.054949Z"
    }
   },
   "outputs": [],
   "source": [
    "x = 20"
   ]
  },
  {
   "cell_type": "markdown",
   "id": "355f82fa",
   "metadata": {},
   "source": [
    "**x** é a variável  \n",
    "**20** é o dado armazenado na variável  \n",
    "**=** operador de atribuição  "
   ]
  },
  {
   "cell_type": "code",
   "execution_count": 8,
   "id": "45c516b6",
   "metadata": {
    "ExecuteTime": {
     "end_time": "2021-06-09T22:37:28.248730Z",
     "start_time": "2021-06-09T22:37:28.242747Z"
    }
   },
   "outputs": [],
   "source": [
    "y = 'Luciano'"
   ]
  },
  {
   "cell_type": "markdown",
   "id": "e8cbcf80",
   "metadata": {
    "ExecuteTime": {
     "end_time": "2021-06-09T22:37:56.117723Z",
     "start_time": "2021-06-09T22:37:56.102772Z"
    }
   },
   "source": [
    "**y** é a variável  \n",
    "**Luciano** é o dado armazenado na variável   \n",
    "**=** operador de atribuição  "
   ]
  },
  {
   "cell_type": "markdown",
   "id": "7b3e11fe",
   "metadata": {},
   "source": [
    "### Tipos de variáveis"
   ]
  },
  {
   "cell_type": "markdown",
   "id": "f9f9a7c5",
   "metadata": {},
   "source": [
    "- int: números inteiros, ou seja, números sem parte decimal: 0, 5, -1, 1000\n",
    "- float: números reais, ou seja, números com parte decimal: 1.0, -2.7, 3.14\n",
    "- str: cadeias de caracteres (strings), ou seja, dados textuais: 'Olá Mundo!', \"eu tenho 18 anos\"\n",
    "- bool: valores lógicos (booleanos), ou seja, apenas um entre dois valores possíveis: True ou False"
   ]
  },
  {
   "cell_type": "code",
   "execution_count": 10,
   "id": "60b7e7cd",
   "metadata": {
    "ExecuteTime": {
     "end_time": "2021-06-09T22:46:34.480317Z",
     "start_time": "2021-06-09T22:46:34.463363Z"
    }
   },
   "outputs": [],
   "source": [
    "idade = 27 # uma variável inteira\n",
    "salario = 5835.87 #decimal no python é \".\" e não vírgula -> variável é do tipo float\n",
    "nome = 'Luciano' # variável do tipo string. STRING  aspas simples ou aspas dupla\n",
    "nome_alternativa = \"Let's Code\" # variavel do tipo string ou str\n",
    "receberNewsletter = True #variavel do tipo booleana ATENÇÃO: primeira letra maiúscula"
   ]
  },
  {
   "cell_type": "markdown",
   "id": "86f147af",
   "metadata": {
    "ExecuteTime": {
     "end_time": "2021-06-09T22:47:04.495429Z",
     "start_time": "2021-06-09T22:47:04.479457Z"
    }
   },
   "source": [
    "## Comentários dentro do código"
   ]
  },
  {
   "cell_type": "code",
   "execution_count": 16,
   "id": "7d484408",
   "metadata": {
    "ExecuteTime": {
     "end_time": "2021-06-09T22:50:18.376604Z",
     "start_time": "2021-06-09T22:50:18.363637Z"
    }
   },
   "outputs": [
    {
     "data": {
      "text/plain": [
       "'\\nO python irá ignorar um bloco de linhas com aspas triplas\\n'"
      ]
     },
     "execution_count": 16,
     "metadata": {},
     "output_type": "execute_result"
    }
   ],
   "source": [
    "# o python usa o # para comentar uma linha, ou seja, o python vai ignorar tudo que vem depois do # nessa linha\n",
    "\n",
    "'''\n",
    "O python irá ignorar um bloco de linhas com aspas triplas\n",
    "'''\n"
   ]
  },
  {
   "cell_type": "markdown",
   "id": "a4164e2e",
   "metadata": {},
   "source": [
    "## Saídas"
   ]
  },
  {
   "cell_type": "markdown",
   "id": "ff05df31",
   "metadata": {},
   "source": [
    "Dados gerados pelo programa -> função print"
   ]
  },
  {
   "cell_type": "code",
   "execution_count": 17,
   "id": "6de0ea50",
   "metadata": {
    "ExecuteTime": {
     "end_time": "2021-06-09T22:55:33.344564Z",
     "start_time": "2021-06-09T22:55:33.326613Z"
    },
    "scrolled": true
   },
   "outputs": [
    {
     "name": "stdout",
     "output_type": "stream",
     "text": [
      "Olá mundo\n"
     ]
    }
   ],
   "source": [
    "print('Olá mundo')"
   ]
  },
  {
   "cell_type": "code",
   "execution_count": 20,
   "id": "d9c3e957",
   "metadata": {
    "ExecuteTime": {
     "end_time": "2021-06-09T22:56:39.128294Z",
     "start_time": "2021-06-09T22:56:39.110342Z"
    }
   },
   "outputs": [
    {
     "name": "stdout",
     "output_type": "stream",
     "text": [
      "20\n"
     ]
    }
   ],
   "source": [
    "print(x) # lembrando que dentro da variavel x, tem o dado inteiro 20"
   ]
  },
  {
   "cell_type": "code",
   "execution_count": 21,
   "id": "fd1980e7",
   "metadata": {
    "ExecuteTime": {
     "end_time": "2021-06-09T22:56:43.836979Z",
     "start_time": "2021-06-09T22:56:43.819983Z"
    }
   },
   "outputs": [
    {
     "ename": "NameError",
     "evalue": "name 'z' is not defined",
     "output_type": "error",
     "traceback": [
      "\u001b[1;31m---------------------------------------------------------------------------\u001b[0m",
      "\u001b[1;31mNameError\u001b[0m                                 Traceback (most recent call last)",
      "\u001b[1;32m<ipython-input-21-c01ac3f50fdc>\u001b[0m in \u001b[0;36m<module>\u001b[1;34m\u001b[0m\n\u001b[1;32m----> 1\u001b[1;33m \u001b[0mprint\u001b[0m\u001b[1;33m(\u001b[0m\u001b[0mz\u001b[0m\u001b[1;33m)\u001b[0m\u001b[1;33m\u001b[0m\u001b[1;33m\u001b[0m\u001b[0m\n\u001b[0m",
      "\u001b[1;31mNameError\u001b[0m: name 'z' is not defined"
     ]
    }
   ],
   "source": [
    "print(z) # z não foi definido"
   ]
  },
  {
   "cell_type": "code",
   "execution_count": 24,
   "id": "03aa71b7",
   "metadata": {
    "ExecuteTime": {
     "end_time": "2021-06-09T23:00:44.732777Z",
     "start_time": "2021-06-09T23:00:44.719813Z"
    }
   },
   "outputs": [
    {
     "data": {
      "text/plain": [
       "20"
      ]
     },
     "execution_count": 24,
     "metadata": {},
     "output_type": "execute_result"
    }
   ],
   "source": [
    "# no jupyter não precisa colocar print, se vc o que for gerado estiver na última linha da célula\n",
    "x"
   ]
  },
  {
   "cell_type": "code",
   "execution_count": 25,
   "id": "0b6beb89",
   "metadata": {
    "ExecuteTime": {
     "end_time": "2021-06-09T23:01:53.278897Z",
     "start_time": "2021-06-09T23:01:53.266933Z"
    }
   },
   "outputs": [
    {
     "data": {
      "text/plain": [
       "20"
      ]
     },
     "execution_count": 25,
     "metadata": {},
     "output_type": "execute_result"
    }
   ],
   "source": [
    "var1 = 20\n",
    "var2 = 30\n",
    "var3 = 50\n",
    "\n",
    "var1"
   ]
  },
  {
   "cell_type": "code",
   "execution_count": 26,
   "id": "c1610e4c",
   "metadata": {
    "ExecuteTime": {
     "end_time": "2021-06-09T23:02:09.249572Z",
     "start_time": "2021-06-09T23:02:09.243587Z"
    }
   },
   "outputs": [
    {
     "name": "stdout",
     "output_type": "stream",
     "text": [
      "20\n"
     ]
    }
   ],
   "source": [
    "var1 = 20\n",
    "var2 = 30\n",
    "var3 = 50\n",
    "\n",
    "print(var1)"
   ]
  },
  {
   "cell_type": "code",
   "execution_count": 27,
   "id": "b851d000",
   "metadata": {
    "ExecuteTime": {
     "end_time": "2021-06-09T23:02:21.897340Z",
     "start_time": "2021-06-09T23:02:21.890320Z"
    }
   },
   "outputs": [
    {
     "data": {
      "text/plain": [
       "'Luciano'"
      ]
     },
     "execution_count": 27,
     "metadata": {},
     "output_type": "execute_result"
    }
   ],
   "source": [
    "nome"
   ]
  },
  {
   "cell_type": "code",
   "execution_count": 28,
   "id": "6c508fd2",
   "metadata": {
    "ExecuteTime": {
     "end_time": "2021-06-09T23:02:29.006607Z",
     "start_time": "2021-06-09T23:02:28.987657Z"
    }
   },
   "outputs": [
    {
     "name": "stdout",
     "output_type": "stream",
     "text": [
      "Luciano\n"
     ]
    }
   ],
   "source": [
    "print(nome)"
   ]
  },
  {
   "cell_type": "code",
   "execution_count": 32,
   "id": "26e2eeba",
   "metadata": {
    "ExecuteTime": {
     "end_time": "2021-06-09T23:03:55.763281Z",
     "start_time": "2021-06-09T23:03:55.755302Z"
    }
   },
   "outputs": [
    {
     "name": "stdout",
     "output_type": "stream",
     "text": [
      "Meu nome é Luciano\n"
     ]
    }
   ],
   "source": [
    "print('Meu nome é', nome) # exemplo de 2 saídas (uma string e uma variável)"
   ]
  },
  {
   "cell_type": "markdown",
   "id": "a5f90431",
   "metadata": {},
   "source": [
    "## Entradas"
   ]
  },
  {
   "cell_type": "markdown",
   "id": "2b03227b",
   "metadata": {},
   "source": [
    "Dados fornecidos pelo usuário (por exemplo, dados pelo teclado) -> função input\n",
    "\n",
    "\n",
    "input() # -> abre um campo para colocar o dado"
   ]
  },
  {
   "cell_type": "code",
   "execution_count": 40,
   "id": "79be8342",
   "metadata": {
    "ExecuteTime": {
     "end_time": "2021-06-09T23:08:56.194049Z",
     "start_time": "2021-06-09T23:08:43.874460Z"
    }
   },
   "outputs": [
    {
     "name": "stdout",
     "output_type": "stream",
     "text": [
      "2\n"
     ]
    }
   ],
   "source": [
    "z = 2 #atribuindo o valor 2 a variavel z -> é um tipo de entrada\n",
    "\n",
    "z = input() # pedindo um dado do teclado (do usuário)\n"
   ]
  },
  {
   "cell_type": "code",
   "execution_count": 44,
   "id": "53b9e064",
   "metadata": {
    "ExecuteTime": {
     "end_time": "2021-06-09T23:10:39.386312Z",
     "start_time": "2021-06-09T23:10:35.850449Z"
    }
   },
   "outputs": [
    {
     "name": "stdout",
     "output_type": "stream",
     "text": [
      "Digite seu nome: Luciano\n",
      "Nome digitado é Luciano\n"
     ]
    }
   ],
   "source": [
    "armazenar_nome = input('Digite seu nome: ')\n",
    "\n",
    "print('Nome digitado é', armazenar_nome)"
   ]
  },
  {
   "cell_type": "code",
   "execution_count": 38,
   "id": "8d12edce",
   "metadata": {
    "ExecuteTime": {
     "end_time": "2021-06-09T23:06:22.672820Z",
     "start_time": "2021-06-09T23:06:22.657859Z"
    }
   },
   "outputs": [
    {
     "data": {
      "text/plain": [
       "float"
      ]
     },
     "execution_count": 38,
     "metadata": {},
     "output_type": "execute_result"
    }
   ],
   "source": [
    "type(z)"
   ]
  },
  {
   "cell_type": "markdown",
   "id": "db5ad904",
   "metadata": {},
   "source": [
    "- Tipos de entrada"
   ]
  },
  {
   "cell_type": "code",
   "execution_count": 46,
   "id": "7deb7dfc",
   "metadata": {
    "ExecuteTime": {
     "end_time": "2021-06-09T23:14:02.471527Z",
     "start_time": "2021-06-09T23:13:58.557664Z"
    }
   },
   "outputs": [
    {
     "name": "stdout",
     "output_type": "stream",
     "text": [
      "Texto1\n"
     ]
    },
    {
     "data": {
      "text/plain": [
       "'1'"
      ]
     },
     "execution_count": 46,
     "metadata": {},
     "output_type": "execute_result"
    }
   ],
   "source": [
    "input('Texto') # sempre vai \"pegar\" uma string como entrada"
   ]
  },
  {
   "cell_type": "code",
   "execution_count": 52,
   "id": "bb462cfc",
   "metadata": {
    "ExecuteTime": {
     "end_time": "2021-06-09T23:16:01.235167Z",
     "start_time": "2021-06-09T23:15:58.660146Z"
    }
   },
   "outputs": [
    {
     "name": "stdout",
     "output_type": "stream",
     "text": [
      "Digite um número2\n",
      "Digite outro número3\n",
      "2 <class 'str'>\n",
      "3 <class 'str'>\n"
     ]
    }
   ],
   "source": [
    "a = input('Digite um número')\n",
    "b = input('Digite outro número')\n",
    "\n",
    "print(a,type(a))\n",
    "print(b,type(b))"
   ]
  },
  {
   "cell_type": "code",
   "execution_count": 53,
   "id": "161e7396",
   "metadata": {
    "ExecuteTime": {
     "end_time": "2021-06-09T23:16:04.235816Z",
     "start_time": "2021-06-09T23:16:04.224846Z"
    }
   },
   "outputs": [
    {
     "data": {
      "text/plain": [
       "'23'"
      ]
     },
     "execution_count": 53,
     "metadata": {},
     "output_type": "execute_result"
    }
   ],
   "source": [
    "a + b"
   ]
  },
  {
   "cell_type": "code",
   "execution_count": 56,
   "id": "99c6005a",
   "metadata": {
    "ExecuteTime": {
     "end_time": "2021-06-09T23:17:41.021234Z",
     "start_time": "2021-06-09T23:17:39.427468Z"
    }
   },
   "outputs": [
    {
     "name": "stdout",
     "output_type": "stream",
     "text": [
      "Digite um número2\n",
      "Digite outro número3\n",
      "2 <class 'int'>\n",
      "3.0 <class 'float'>\n"
     ]
    }
   ],
   "source": [
    "# Somar 2 números\n",
    "\n",
    "a = int(input('Digite um número')) # acrescentando o int para transformar a entrada de string em int\n",
    "b = float(input('Digite outro número'))\n",
    "\n",
    "print(a,type(a))\n",
    "print(b,type(b))"
   ]
  },
  {
   "cell_type": "code",
   "execution_count": 57,
   "id": "a8eae5da",
   "metadata": {
    "ExecuteTime": {
     "end_time": "2021-06-09T23:17:44.969090Z",
     "start_time": "2021-06-09T23:17:44.956126Z"
    }
   },
   "outputs": [
    {
     "data": {
      "text/plain": [
       "5.0"
      ]
     },
     "execution_count": 57,
     "metadata": {},
     "output_type": "execute_result"
    }
   ],
   "source": [
    "a + b"
   ]
  },
  {
   "cell_type": "markdown",
   "id": "01ca42cf",
   "metadata": {},
   "source": [
    "## Operadores"
   ]
  },
  {
   "cell_type": "markdown",
   "id": "ee9b83f9",
   "metadata": {},
   "source": [
    "- Soma: +\n",
    "- Subtração: -\n",
    "- Multiplicação: *\n",
    "- Divisão: /\n",
    "- Divisão inteira: //\n",
    "- Resto da divisão: %\n",
    "- Potência: **"
   ]
  },
  {
   "cell_type": "code",
   "execution_count": 79,
   "id": "881a35a5",
   "metadata": {
    "ExecuteTime": {
     "end_time": "2021-06-09T23:29:23.190950Z",
     "start_time": "2021-06-09T23:29:13.157011Z"
    }
   },
   "outputs": [
    {
     "name": "stdout",
     "output_type": "stream",
     "text": [
      "Digite um número: 30\n",
      "Digite outro número: 20\n",
      "Valor de a: 30\n",
      "Valor de b: 20\n"
     ]
    }
   ],
   "source": [
    "a = int(input('Digite um número: ')) # acrescentando o int para transformar a entrada de string em int\n",
    "b = int(input('Digite outro número: '))\n",
    "\n",
    "print('Valor de a:', a)\n",
    "print('Valor de b:', b)"
   ]
  },
  {
   "cell_type": "code",
   "execution_count": 82,
   "id": "789b52cf",
   "metadata": {
    "ExecuteTime": {
     "end_time": "2021-06-09T23:30:44.854792Z",
     "start_time": "2021-06-09T23:30:44.847810Z"
    }
   },
   "outputs": [],
   "source": [
    "soma = a + b\n",
    "subtrai = a - b\n",
    "multiplica = a * b\n",
    "divide = a / b\n",
    "divide_inteiro = a // b\n",
    "resto_divisao = a % b\n",
    "potencia = a ** 2 #(potencia de 2)"
   ]
  },
  {
   "cell_type": "code",
   "execution_count": 84,
   "id": "38e87480",
   "metadata": {
    "ExecuteTime": {
     "end_time": "2021-06-09T23:31:15.576245Z",
     "start_time": "2021-06-09T23:31:15.556300Z"
    }
   },
   "outputs": [
    {
     "name": "stdout",
     "output_type": "stream",
     "text": [
      "Soma: 50\n",
      "Subtração: 10\n",
      "Multiplicação: 600\n",
      "Divisão: 1.5\n",
      "Divisão inteira: 1\n",
      "Resto da divisão: 10\n",
      "Potenciação: 900\n"
     ]
    }
   ],
   "source": [
    "print('Soma:', soma)\n",
    "print('Subtração:', subtrai)\n",
    "print('Multiplicação:', multiplica)\n",
    "print('Divisão:', divide)\n",
    "print('Divisão inteira:', divide_inteiro)\n",
    "print('Resto da divisão:', resto_divisao)\n",
    "print('Potenciação:', potencia)"
   ]
  },
  {
   "cell_type": "markdown",
   "id": "65c498a7",
   "metadata": {
    "ExecuteTime": {
     "end_time": "2021-06-09T23:25:02.957069Z",
     "start_time": "2021-06-09T23:25:02.941113Z"
    }
   },
   "source": [
    "# Operadores Lógicos"
   ]
  },
  {
   "cell_type": "markdown",
   "id": "22a3cfeb",
   "metadata": {
    "ExecuteTime": {
     "end_time": "2021-06-09T23:37:22.701440Z",
     "start_time": "2021-06-09T23:37:22.693460Z"
    }
   },
   "source": [
    "## Operações booleanas"
   ]
  },
  {
   "cell_type": "markdown",
   "id": "2827ca76",
   "metadata": {
    "ExecuteTime": {
     "end_time": "2021-06-09T23:37:22.701440Z",
     "start_time": "2021-06-09T23:37:22.693460Z"
    }
   },
   "source": [
    "  \n",
    "- Maior que: >\n",
    "- Maior ou igual: >=\n",
    "- Menor que: <\n",
    "- Menor ou igual: <=\n",
    "- Igual: == \n",
    "- Diferente: !="
   ]
  },
  {
   "cell_type": "code",
   "execution_count": 86,
   "id": "a5442f1a",
   "metadata": {
    "ExecuteTime": {
     "end_time": "2021-06-09T23:32:54.045336Z",
     "start_time": "2021-06-09T23:32:54.028345Z"
    }
   },
   "outputs": [
    {
     "name": "stdout",
     "output_type": "stream",
     "text": [
      "True\n"
     ]
    }
   ],
   "source": [
    "comparacao = 5 > 3\n",
    "\n",
    "print(comparacao)"
   ]
  },
  {
   "cell_type": "code",
   "execution_count": 87,
   "id": "569ae4b9",
   "metadata": {
    "ExecuteTime": {
     "end_time": "2021-06-09T23:33:09.985173Z",
     "start_time": "2021-06-09T23:33:09.976201Z"
    }
   },
   "outputs": [
    {
     "name": "stdout",
     "output_type": "stream",
     "text": [
      "False\n"
     ]
    }
   ],
   "source": [
    "comparacao = 5 < 3\n",
    "\n",
    "print(comparacao)"
   ]
  },
  {
   "cell_type": "code",
   "execution_count": 88,
   "id": "ff83014e",
   "metadata": {
    "ExecuteTime": {
     "end_time": "2021-06-09T23:34:55.128328Z",
     "start_time": "2021-06-09T23:34:55.116322Z"
    }
   },
   "outputs": [
    {
     "data": {
      "text/plain": [
       "False"
      ]
     },
     "execution_count": 88,
     "metadata": {},
     "output_type": "execute_result"
    }
   ],
   "source": [
    "5 == 3"
   ]
  },
  {
   "cell_type": "code",
   "execution_count": 89,
   "id": "41079b38",
   "metadata": {
    "ExecuteTime": {
     "end_time": "2021-06-09T23:35:01.337132Z",
     "start_time": "2021-06-09T23:35:01.324170Z"
    }
   },
   "outputs": [
    {
     "ename": "SyntaxError",
     "evalue": "cannot assign to literal (<ipython-input-89-9a762f2c796b>, line 1)",
     "output_type": "error",
     "traceback": [
      "\u001b[1;36m  File \u001b[1;32m\"<ipython-input-89-9a762f2c796b>\"\u001b[1;36m, line \u001b[1;32m1\u001b[0m\n\u001b[1;33m    5 = 3\u001b[0m\n\u001b[1;37m    ^\u001b[0m\n\u001b[1;31mSyntaxError\u001b[0m\u001b[1;31m:\u001b[0m cannot assign to literal\n"
     ]
    }
   ],
   "source": [
    "5 = 3 # NAO EXISTE - O OPERADOR = (IGUAL) É DE ATRIBUIÇÃO E NÃO COMPARAÇÃO"
   ]
  },
  {
   "cell_type": "code",
   "execution_count": 90,
   "id": "56f31b6b",
   "metadata": {
    "ExecuteTime": {
     "end_time": "2021-06-09T23:35:45.552960Z",
     "start_time": "2021-06-09T23:35:45.544983Z"
    }
   },
   "outputs": [
    {
     "data": {
      "text/plain": [
       "True"
      ]
     },
     "execution_count": 90,
     "metadata": {},
     "output_type": "execute_result"
    }
   ],
   "source": [
    "5 != 3 # (DIFERENTES)"
   ]
  },
  {
   "cell_type": "markdown",
   "id": "2cd1bc3b",
   "metadata": {},
   "source": [
    "## Conjunções lógicas"
   ]
  },
  {
   "cell_type": "markdown",
   "id": "831d5e5f",
   "metadata": {},
   "source": [
    "- and: verdadeiro se condição 1 for verdadeira **e** condição 2 for verdadeira\n",
    "- or: verdadeiro se condição 1 for verdadeira **ou** condição 2 for verdadeira"
   ]
  },
  {
   "cell_type": "code",
   "execution_count": 96,
   "id": "65fb060b",
   "metadata": {
    "ExecuteTime": {
     "end_time": "2021-06-09T23:45:37.313723Z",
     "start_time": "2021-06-09T23:45:29.501114Z"
    }
   },
   "outputs": [
    {
     "name": "stdout",
     "output_type": "stream",
     "text": [
      "Digite a média do aluno :6\n",
      "Digite a frequencia do aluno :0.75\n",
      "Media: 6.0 \n",
      "Frequencia: 0.75\n",
      "Aluno aprovado: True\n"
     ]
    }
   ],
   "source": [
    "# aprovado -> média tem que ser maior ou igual a 6 E a frequencia tem que ser maior ou igual a 0.75\n",
    "\n",
    "media = float(input('Digite a média do aluno :'))\n",
    "freq = float(input('Digite a frequencia do aluno :'))\n",
    "\n",
    "print('Media:', media, '\\nFrequencia:', freq)\n",
    "\n",
    "aprovado = media >= 6.0 and freq >= 0.75\n",
    "\n",
    "print('Aluno aprovado:', aprovado)"
   ]
  },
  {
   "cell_type": "code",
   "execution_count": 97,
   "id": "6dbfd7ad",
   "metadata": {
    "ExecuteTime": {
     "end_time": "2021-06-09T23:46:00.610346Z",
     "start_time": "2021-06-09T23:45:47.677523Z"
    }
   },
   "outputs": [
    {
     "name": "stdout",
     "output_type": "stream",
     "text": [
      "Digite a média do aluno :6\n",
      "Digite a frequencia do aluno :0.7\n",
      "Media: 6.0 \n",
      "Frequencia: 0.7\n",
      "Aluno aprovado: False\n"
     ]
    }
   ],
   "source": [
    "media = float(input('Digite a média do aluno :'))\n",
    "freq = float(input('Digite a frequencia do aluno :'))\n",
    "\n",
    "print('Media:', media, '\\nFrequencia:', freq)\n",
    "\n",
    "aprovado = media >= 6.0 and freq >= 0.75\n",
    "\n",
    "print('Aluno aprovado:', aprovado)"
   ]
  },
  {
   "cell_type": "markdown",
   "id": "40c455ba",
   "metadata": {},
   "source": [
    "Se a condição media >= 6.0 and freq >= 0.75 for verdadeira, a variavel aprovado vai ser True caso contrário vai ser False"
   ]
  },
  {
   "cell_type": "code",
   "execution_count": 101,
   "id": "69c0bd0d",
   "metadata": {
    "ExecuteTime": {
     "end_time": "2021-06-09T23:54:47.279942Z",
     "start_time": "2021-06-09T23:54:34.389712Z"
    }
   },
   "outputs": [
    {
     "name": "stdout",
     "output_type": "stream",
     "text": [
      "Digite o dia do mês para encerrar a promoção: 10\n",
      "Digite o dia do mês atual: 9\n",
      "Digite a quantidade de itens no estoque: 0\n",
      "acabou a promoção ou o estoque?  True\n"
     ]
    }
   ],
   "source": [
    "diaFinal=int(input('Digite o dia do mês para encerrar a promoção: '))\n",
    "diaAtual=int(input('Digite o dia do mês atual: '))\n",
    "estoque=int(input('Digite a quantidade de itens no estoque: '))\n",
    "\n",
    "acabou=diaAtual>diaFinal or estoque==0\n",
    "print(\"acabou a promoção\", acabou)"
   ]
  },
  {
   "cell_type": "code",
   "execution_count": null,
   "id": "076f2e74",
   "metadata": {},
   "outputs": [],
   "source": [
    "diaFinal = int(input('Digite o dia do mês para encerrar a promoção: '))\n",
    "diaAtual = int(input('Digite o dia do mês atual: '))\n",
    "estoque = int(input('Digite a quantidade de itens no estoque: '))\n",
    "\n",
    "acabou = diaAtual > diaFinal or estoque == 0\n",
    "print(\"acabou a promoção\", acabou)"
   ]
  }
 ],
 "metadata": {
  "kernelspec": {
   "display_name": "Python 3",
   "language": "python",
   "name": "python3"
  },
  "language_info": {
   "codemirror_mode": {
    "name": "ipython",
    "version": 3
   },
   "file_extension": ".py",
   "mimetype": "text/x-python",
   "name": "python",
   "nbconvert_exporter": "python",
   "pygments_lexer": "ipython3",
   "version": "3.9.5"
  },
  "varInspector": {
   "cols": {
    "lenName": 16,
    "lenType": 16,
    "lenVar": 40
   },
   "kernels_config": {
    "python": {
     "delete_cmd_postfix": "",
     "delete_cmd_prefix": "del ",
     "library": "var_list.py",
     "varRefreshCmd": "print(var_dic_list())"
    },
    "r": {
     "delete_cmd_postfix": ") ",
     "delete_cmd_prefix": "rm(",
     "library": "var_list.r",
     "varRefreshCmd": "cat(var_dic_list()) "
    }
   },
   "types_to_exclude": [
    "module",
    "function",
    "builtin_function_or_method",
    "instance",
    "_Feature"
   ],
   "window_display": false
  }
 },
 "nbformat": 4,
 "nbformat_minor": 5
}
