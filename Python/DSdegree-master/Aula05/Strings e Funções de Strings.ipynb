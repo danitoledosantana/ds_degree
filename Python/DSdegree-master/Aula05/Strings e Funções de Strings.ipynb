{
 "cells": [
  {
   "cell_type": "markdown",
   "id": "0b1ef542",
   "metadata": {},
   "source": [
    "# Strings"
   ]
  },
  {
   "cell_type": "markdown",
   "id": "d964147d",
   "metadata": {},
   "source": [
    "String = texto, literal  \n",
    "String é uma coleção de caracteres  \n",
    "Strings são imutáveis"
   ]
  },
  {
   "cell_type": "code",
   "execution_count": 1,
   "id": "3f84344b",
   "metadata": {
    "ExecuteTime": {
     "end_time": "2021-06-16T22:26:22.977619Z",
     "start_time": "2021-06-16T22:26:22.969640Z"
    }
   },
   "outputs": [],
   "source": [
    "variavel1 = 'texto' # aspa simples\n",
    "variavel2 = \"palavra\" # aspas duplas\n",
    "variavel3 = \"Let's Code\""
   ]
  },
  {
   "cell_type": "markdown",
   "id": "8a46dd55",
   "metadata": {},
   "source": [
    "## Acessar uma string"
   ]
  },
  {
   "cell_type": "code",
   "execution_count": 6,
   "id": "76043b30",
   "metadata": {
    "ExecuteTime": {
     "end_time": "2021-06-16T22:31:26.180105Z",
     "start_time": "2021-06-16T22:31:26.169115Z"
    },
    "scrolled": true
   },
   "outputs": [
    {
     "name": "stdout",
     "output_type": "stream",
     "text": [
      "L\n",
      "e\n",
      "t\n",
      "'\n",
      "s\n",
      " \n"
     ]
    }
   ],
   "source": [
    "frase = \"Let's Code\"\n",
    "\n",
    "print(frase[0])\n",
    "print(frase[1])\n",
    "print(frase[2])\n",
    "print(frase[3])\n",
    "print(frase[4])\n",
    "print(frase[5])"
   ]
  },
  {
   "cell_type": "markdown",
   "id": "65107e6a",
   "metadata": {},
   "source": [
    "\"Let's Code\"  \n",
    "índice 0 corresponde a L  \n",
    "índice 5 corresponde ao espaço  \n",
    "\n",
    "Obs.: String é imutável\n"
   ]
  },
  {
   "cell_type": "code",
   "execution_count": 7,
   "id": "59b821f2",
   "metadata": {
    "ExecuteTime": {
     "end_time": "2021-06-16T22:33:11.233351Z",
     "start_time": "2021-06-16T22:33:11.053831Z"
    }
   },
   "outputs": [
    {
     "ename": "TypeError",
     "evalue": "'str' object does not support item assignment",
     "output_type": "error",
     "traceback": [
      "\u001b[1;31m---------------------------------------------------------------------------\u001b[0m",
      "\u001b[1;31mTypeError\u001b[0m                                 Traceback (most recent call last)",
      "\u001b[1;32m<ipython-input-7-81fe7fe4debd>\u001b[0m in \u001b[0;36m<module>\u001b[1;34m\u001b[0m\n\u001b[0;32m      1\u001b[0m \u001b[0mfrase\u001b[0m \u001b[1;33m=\u001b[0m \u001b[1;34m\"Let's Code\"\u001b[0m\u001b[1;33m\u001b[0m\u001b[1;33m\u001b[0m\u001b[0m\n\u001b[0;32m      2\u001b[0m \u001b[1;33m\u001b[0m\u001b[0m\n\u001b[1;32m----> 3\u001b[1;33m \u001b[0mfrase\u001b[0m\u001b[1;33m[\u001b[0m\u001b[1;36m0\u001b[0m\u001b[1;33m]\u001b[0m \u001b[1;33m=\u001b[0m \u001b[1;34m'p'\u001b[0m\u001b[1;33m\u001b[0m\u001b[1;33m\u001b[0m\u001b[0m\n\u001b[0m",
      "\u001b[1;31mTypeError\u001b[0m: 'str' object does not support item assignment"
     ]
    }
   ],
   "source": [
    "frase = \"Let's Code\"\n",
    "\n",
    "frase[0] = 'p' # deu erro pois a string é imutável, não consigo associar um caracter dentro da string."
   ]
  },
  {
   "cell_type": "markdown",
   "id": "536622da",
   "metadata": {},
   "source": [
    "Para as string, temos que copiar ou associar a outra string"
   ]
  },
  {
   "cell_type": "code",
   "execution_count": 8,
   "id": "2fa098ae",
   "metadata": {
    "ExecuteTime": {
     "end_time": "2021-06-16T22:35:34.500435Z",
     "start_time": "2021-06-16T22:35:34.484477Z"
    }
   },
   "outputs": [
    {
     "data": {
      "text/plain": [
       "\"Let's Code qualquer coisa\""
      ]
     },
     "execution_count": 8,
     "metadata": {},
     "output_type": "execute_result"
    }
   ],
   "source": [
    "frase2 = frase + ' qualquer coisa'\n",
    "frase2"
   ]
  },
  {
   "cell_type": "code",
   "execution_count": 9,
   "id": "d67c0a41",
   "metadata": {
    "ExecuteTime": {
     "end_time": "2021-06-16T22:36:46.905830Z",
     "start_time": "2021-06-16T22:36:46.892866Z"
    }
   },
   "outputs": [
    {
     "data": {
      "text/plain": [
       "\"pet's Code\""
      ]
     },
     "execution_count": 9,
     "metadata": {},
     "output_type": "execute_result"
    }
   ],
   "source": [
    "frase = \"pet's Code\" # associando uma nova string para a variável frase\n",
    "frase"
   ]
  },
  {
   "cell_type": "markdown",
   "id": "24e42f76",
   "metadata": {},
   "source": [
    "## Operações entre strings"
   ]
  },
  {
   "cell_type": "markdown",
   "id": "6a1d8617",
   "metadata": {},
   "source": [
    "    + : concatenar (unir duas strings)\n",
    " "
   ]
  },
  {
   "cell_type": "code",
   "execution_count": 11,
   "id": "be64173d",
   "metadata": {
    "ExecuteTime": {
     "end_time": "2021-06-16T22:42:13.660458Z",
     "start_time": "2021-06-16T22:42:13.644485Z"
    }
   },
   "outputs": [
    {
     "data": {
      "text/plain": [
       "'Olámundo'"
      ]
     },
     "execution_count": 11,
     "metadata": {},
     "output_type": "execute_result"
    }
   ],
   "source": [
    "string1 = 'Olá'\n",
    "string2 = 'mundo'\n",
    "\n",
    "string1 + string2"
   ]
  },
  {
   "cell_type": "code",
   "execution_count": 12,
   "id": "05c35a24",
   "metadata": {
    "ExecuteTime": {
     "end_time": "2021-06-16T22:42:59.027480Z",
     "start_time": "2021-06-16T22:42:59.009019Z"
    }
   },
   "outputs": [
    {
     "data": {
      "text/plain": [
       "'Olá mundo'"
      ]
     },
     "execution_count": 12,
     "metadata": {},
     "output_type": "execute_result"
    }
   ],
   "source": [
    "string1 + \" \" + string2"
   ]
  },
  {
   "cell_type": "code",
   "execution_count": 13,
   "id": "ac96328b",
   "metadata": {
    "ExecuteTime": {
     "end_time": "2021-06-16T22:43:37.780244Z",
     "start_time": "2021-06-16T22:43:37.760248Z"
    }
   },
   "outputs": [
    {
     "data": {
      "text/plain": [
       "'Posso escrever uma frase'"
      ]
     },
     "execution_count": 13,
     "metadata": {},
     "output_type": "execute_result"
    }
   ],
   "source": [
    "'Posso' + ' ' + 'escrever' + ' ' + 'uma' + ' ' + 'frase'"
   ]
  },
  {
   "cell_type": "code",
   "execution_count": 16,
   "id": "78068d9e",
   "metadata": {
    "ExecuteTime": {
     "end_time": "2021-06-16T22:46:38.532305Z",
     "start_time": "2021-06-16T22:46:38.512358Z"
    }
   },
   "outputs": [
    {
     "data": {
      "text/plain": [
       "'A idade da menina é: 30 anos e sua altura é 1.67 m'"
      ]
     },
     "execution_count": 16,
     "metadata": {},
     "output_type": "execute_result"
    }
   ],
   "source": [
    "idade = 30\n",
    "altura = 1.67\n",
    "'A idade da menina é: ' + str(idade) + ' anos e sua altura é ' + str(altura) + ' m'"
   ]
  },
  {
   "cell_type": "markdown",
   "id": "5ff914e8",
   "metadata": {},
   "source": [
    "    * : repetir a string n vezes"
   ]
  },
  {
   "cell_type": "code",
   "execution_count": 17,
   "id": "cc20a127",
   "metadata": {
    "ExecuteTime": {
     "end_time": "2021-06-16T22:49:00.441467Z",
     "start_time": "2021-06-16T22:49:00.427464Z"
    }
   },
   "outputs": [
    {
     "data": {
      "text/plain": [
       "'OláOláOlá'"
      ]
     },
     "execution_count": 17,
     "metadata": {},
     "output_type": "execute_result"
    }
   ],
   "source": [
    "string1 * 3 # repetir a string1 3 vezes"
   ]
  },
  {
   "cell_type": "code",
   "execution_count": 18,
   "id": "4793e6c1",
   "metadata": {
    "ExecuteTime": {
     "end_time": "2021-06-16T22:49:38.451986Z",
     "start_time": "2021-06-16T22:49:38.437029Z"
    }
   },
   "outputs": [
    {
     "data": {
      "text/plain": [
       "'00000000000000000000'"
      ]
     },
     "execution_count": 18,
     "metadata": {},
     "output_type": "execute_result"
    }
   ],
   "source": [
    "'0' * 20 # criando uma string/texto com 20 zeros"
   ]
  },
  {
   "cell_type": "markdown",
   "id": "be11584e",
   "metadata": {},
   "source": [
    "- copiando uma string através de concatenar"
   ]
  },
  {
   "cell_type": "raw",
   "id": "b8650234",
   "metadata": {},
   "source": [
    "# Exemplo com lista\n",
    "soma = 0\n",
    "for numero in lista:\n",
    "    soma = soma + numero"
   ]
  },
  {
   "cell_type": "code",
   "execution_count": 26,
   "id": "5db65022",
   "metadata": {
    "ExecuteTime": {
     "end_time": "2021-06-16T22:57:05.940693Z",
     "start_time": "2021-06-16T22:57:05.919751Z"
    }
   },
   "outputs": [
    {
     "name": "stdout",
     "output_type": "stream",
     "text": [
      "letra:  O\n",
      "string_final \n",
      "string_final O\n",
      "mais uma rodada\n",
      "\n",
      "letra:  l\n",
      "string_final O\n",
      "string_final Ol\n",
      "mais uma rodada\n",
      "\n",
      "letra:  á\n",
      "string_final Ol\n",
      "string_final Olá\n",
      "mais uma rodada\n",
      "\n",
      "letra:   \n",
      "string_final Olá\n",
      "string_final Olá \n",
      "mais uma rodada\n",
      "\n",
      "letra:  m\n",
      "string_final Olá \n",
      "string_final Olá m\n",
      "mais uma rodada\n",
      "\n",
      "letra:  u\n",
      "string_final Olá m\n",
      "string_final Olá mu\n",
      "mais uma rodada\n",
      "\n",
      "letra:  n\n",
      "string_final Olá mu\n",
      "string_final Olá mun\n",
      "mais uma rodada\n",
      "\n",
      "letra:  d\n",
      "string_final Olá mun\n",
      "string_final Olá mund\n",
      "mais uma rodada\n",
      "\n",
      "letra:  o\n",
      "string_final Olá mund\n",
      "string_final Olá mundo\n",
      "mais uma rodada\n",
      "\n"
     ]
    }
   ],
   "source": [
    "# usando a mesma lógica\n",
    "\n",
    "string_inicial = 'Olá mundo'\n",
    "string_final = '' #iniciando uma variável com o valor string vazio (cria uma string vazia)\n",
    "\n",
    "for letra in string_inicial:\n",
    "    print('letra: ', letra)\n",
    "    print('string_final', string_final)\n",
    "    \n",
    "    string_final = string_final + letra\n",
    "    \n",
    "    print('string_final', string_final)\n",
    "    print('mais uma rodada\\n')\n",
    "\n",
    "# print(string_final)"
   ]
  },
  {
   "cell_type": "markdown",
   "id": "9f1a97e8",
   "metadata": {
    "ExecuteTime": {
     "end_time": "2021-06-16T22:53:14.681973Z",
     "start_time": "2021-06-16T22:53:14.675947Z"
    }
   },
   "source": [
    "No exemplo acima, foi adicionado letra a letra à variável string_final"
   ]
  },
  {
   "cell_type": "markdown",
   "id": "54564ef9",
   "metadata": {},
   "source": [
    "## Transformando uma string em lista"
   ]
  },
  {
   "cell_type": "code",
   "execution_count": 33,
   "id": "c06b10e9",
   "metadata": {
    "ExecuteTime": {
     "end_time": "2021-06-16T23:02:46.831909Z",
     "start_time": "2021-06-16T23:02:46.816951Z"
    }
   },
   "outputs": [
    {
     "name": "stdout",
     "output_type": "stream",
     "text": [
      "['t', 'e', 'x', 't', 'o']\n"
     ]
    }
   ],
   "source": [
    "frase = 'texto'\n",
    "\n",
    "lista_frase = list(frase) # transformando uma string em lista\n",
    "print(lista_frase)"
   ]
  },
  {
   "cell_type": "code",
   "execution_count": 35,
   "id": "6f43e002",
   "metadata": {
    "ExecuteTime": {
     "end_time": "2021-06-16T23:02:54.807696Z",
     "start_time": "2021-06-16T23:02:54.800673Z"
    }
   },
   "outputs": [
    {
     "data": {
      "text/plain": [
       "'texto'"
      ]
     },
     "execution_count": 35,
     "metadata": {},
     "output_type": "execute_result"
    }
   ],
   "source": [
    "frase"
   ]
  },
  {
   "cell_type": "code",
   "execution_count": 36,
   "id": "6f1932ea",
   "metadata": {
    "ExecuteTime": {
     "end_time": "2021-06-16T23:02:56.773303Z",
     "start_time": "2021-06-16T23:02:56.760338Z"
    }
   },
   "outputs": [
    {
     "data": {
      "text/plain": [
       "['t', 'e', 'x', 't', 'o']"
      ]
     },
     "execution_count": 36,
     "metadata": {},
     "output_type": "execute_result"
    }
   ],
   "source": [
    "lista_frase"
   ]
  },
  {
   "cell_type": "code",
   "execution_count": 37,
   "id": "1166430c",
   "metadata": {
    "ExecuteTime": {
     "end_time": "2021-06-16T23:04:20.925781Z",
     "start_time": "2021-06-16T23:04:20.909823Z"
    }
   },
   "outputs": [
    {
     "name": "stdout",
     "output_type": "stream",
     "text": [
      "['T', 'e', 'x', 't', 'o']\n"
     ]
    }
   ],
   "source": [
    "# na lista consigo alterar a letra 't' por 'T'?\n",
    "lista_frase[0] = 'T'\n",
    "\n",
    "print(lista_frase)"
   ]
  },
  {
   "cell_type": "code",
   "execution_count": 38,
   "id": "c72e2b8f",
   "metadata": {
    "ExecuteTime": {
     "end_time": "2021-06-16T23:04:44.430105Z",
     "start_time": "2021-06-16T23:04:44.415148Z"
    }
   },
   "outputs": [
    {
     "ename": "TypeError",
     "evalue": "'str' object does not support item assignment",
     "output_type": "error",
     "traceback": [
      "\u001b[1;31m---------------------------------------------------------------------------\u001b[0m",
      "\u001b[1;31mTypeError\u001b[0m                                 Traceback (most recent call last)",
      "\u001b[1;32m<ipython-input-38-079cb4660c91>\u001b[0m in \u001b[0;36m<module>\u001b[1;34m\u001b[0m\n\u001b[1;32m----> 1\u001b[1;33m \u001b[0mfrase\u001b[0m\u001b[1;33m[\u001b[0m\u001b[1;36m0\u001b[0m\u001b[1;33m]\u001b[0m \u001b[1;33m=\u001b[0m \u001b[1;34m'T'\u001b[0m\u001b[1;33m\u001b[0m\u001b[1;33m\u001b[0m\u001b[0m\n\u001b[0m",
      "\u001b[1;31mTypeError\u001b[0m: 'str' object does not support item assignment"
     ]
    }
   ],
   "source": [
    "frase[0] = 'T' # Erro pq string é imutável"
   ]
  },
  {
   "cell_type": "code",
   "execution_count": 40,
   "id": "ad863354",
   "metadata": {
    "ExecuteTime": {
     "end_time": "2021-06-16T23:06:20.199426Z",
     "start_time": "2021-06-16T23:06:20.188457Z"
    }
   },
   "outputs": [
    {
     "data": {
      "text/plain": [
       "['T', 'e', 'x', 'T', 'o']"
      ]
     },
     "execution_count": 40,
     "metadata": {},
     "output_type": "execute_result"
    }
   ],
   "source": [
    "lista_frase[3] = 'T'\n",
    "\n",
    "lista_frase"
   ]
  },
  {
   "cell_type": "markdown",
   "id": "beae02fe",
   "metadata": {},
   "source": [
    "## Símbolos especiais"
   ]
  },
  {
   "cell_type": "markdown",
   "id": "f44a7081",
   "metadata": {
    "ExecuteTime": {
     "end_time": "2021-06-16T23:07:25.811876Z",
     "start_time": "2021-06-16T23:07:25.801934Z"
    }
   },
   "source": [
    "- quebra de linha: \\n"
   ]
  },
  {
   "cell_type": "code",
   "execution_count": 43,
   "id": "103f4dda",
   "metadata": {
    "ExecuteTime": {
     "end_time": "2021-06-16T23:08:10.246717Z",
     "start_time": "2021-06-16T23:08:10.238738Z"
    }
   },
   "outputs": [
    {
     "name": "stdout",
     "output_type": "stream",
     "text": [
      "Olá \n",
      " mundo \n",
      " gigante\n"
     ]
    }
   ],
   "source": [
    "print('Olá \\n mundo \\n gigante')"
   ]
  },
  {
   "cell_type": "markdown",
   "id": "b58a0a1c",
   "metadata": {},
   "source": [
    "- Tabulação: \\t"
   ]
  },
  {
   "cell_type": "code",
   "execution_count": 44,
   "id": "28cd4f7c",
   "metadata": {
    "ExecuteTime": {
     "end_time": "2021-06-16T23:09:01.101589Z",
     "start_time": "2021-06-16T23:09:01.089621Z"
    },
    "scrolled": true
   },
   "outputs": [
    {
     "name": "stdout",
     "output_type": "stream",
     "text": [
      "Candidatos aprovados:\n",
      "\t Mario\n",
      "\t Peach\n",
      "\t Luigi\n",
      "Candidatos reprovados:\n",
      "\t Wario\n",
      "\t Bowser\n"
     ]
    }
   ],
   "source": [
    "aprovados = ['Mario', 'Peach', 'Luigi']\n",
    "reprovados = ['Wario', 'Bowser']\n",
    "\n",
    "print('Candidatos aprovados:')\n",
    "for nome in aprovados:\n",
    "    print('\\t', nome)\n",
    "\n",
    "print('Candidatos reprovados:')\n",
    "for nome in reprovados:\n",
    "    print('\\t', nome)"
   ]
  },
  {
   "cell_type": "code",
   "execution_count": 49,
   "id": "3e7bdb48",
   "metadata": {
    "ExecuteTime": {
     "end_time": "2021-06-16T23:12:36.813741Z",
     "start_time": "2021-06-16T23:12:36.804732Z"
    }
   },
   "outputs": [
    {
     "name": "stdout",
     "output_type": "stream",
     "text": [
      "Uma frase\n"
     ]
    }
   ],
   "source": [
    "print('Uma frase')"
   ]
  },
  {
   "cell_type": "code",
   "execution_count": 50,
   "id": "1336fa43",
   "metadata": {
    "ExecuteTime": {
     "end_time": "2021-06-16T23:12:47.697640Z",
     "start_time": "2021-06-16T23:12:47.689662Z"
    }
   },
   "outputs": [
    {
     "name": "stdout",
     "output_type": "stream",
     "text": [
      "\t Uma frase\n"
     ]
    }
   ],
   "source": [
    "print('\\t Uma frase')"
   ]
  },
  {
   "cell_type": "markdown",
   "id": "4ffbae32",
   "metadata": {},
   "source": [
    "- barra: \\\\"
   ]
  },
  {
   "cell_type": "code",
   "execution_count": 45,
   "id": "b3ebbe21",
   "metadata": {
    "ExecuteTime": {
     "end_time": "2021-06-16T23:10:40.656839Z",
     "start_time": "2021-06-16T23:10:40.643874Z"
    }
   },
   "outputs": [
    {
     "name": "stdout",
     "output_type": "stream",
     "text": [
      "Utilizamos o \n",
      " para quebrar linhas\n"
     ]
    }
   ],
   "source": [
    "# print('Utilizamos o \\n para quebrar linhas')\n",
    "print('Utilizamos o \\n para quebrar linhas')"
   ]
  },
  {
   "cell_type": "code",
   "execution_count": 46,
   "id": "eb2e0339",
   "metadata": {
    "ExecuteTime": {
     "end_time": "2021-06-16T23:11:15.522375Z",
     "start_time": "2021-06-16T23:11:15.509413Z"
    }
   },
   "outputs": [
    {
     "name": "stdout",
     "output_type": "stream",
     "text": [
      "Utilizamos o \\n para quebrar linhas\n"
     ]
    }
   ],
   "source": [
    "print('Utilizamos o \\\\n para quebrar linhas')"
   ]
  },
  {
   "cell_type": "markdown",
   "id": "a0e19983",
   "metadata": {},
   "source": [
    "- aspas \\\\'        \\\\\""
   ]
  },
  {
   "cell_type": "code",
   "execution_count": 53,
   "id": "cbc25eb2",
   "metadata": {
    "ExecuteTime": {
     "end_time": "2021-06-16T23:16:47.543610Z",
     "start_time": "2021-06-16T23:16:47.531641Z"
    }
   },
   "outputs": [
    {
     "name": "stdout",
     "output_type": "stream",
     "text": [
      "Imprimindo uma aspa simples (') dentro de uma string sem problemas\n",
      "Imprimindo uma aspa simples (\") dentro de uma string sem problemas\n"
     ]
    }
   ],
   "source": [
    "print('Imprimindo uma aspa simples (\\') dentro de uma string sem problemas')\n",
    "print(\"Imprimindo uma aspa simples (\\\") dentro de uma string sem problemas\")"
   ]
  },
  {
   "cell_type": "code",
   "execution_count": 51,
   "id": "0b9fd0b0",
   "metadata": {
    "ExecuteTime": {
     "end_time": "2021-06-16T23:15:24.882591Z",
     "start_time": "2021-06-16T23:15:24.865638Z"
    }
   },
   "outputs": [
    {
     "data": {
      "text/plain": [
       "\"let's code\""
      ]
     },
     "execution_count": 51,
     "metadata": {},
     "output_type": "execute_result"
    }
   ],
   "source": [
    "'let\\'s code'"
   ]
  },
  {
   "cell_type": "markdown",
   "id": "a1d02118",
   "metadata": {},
   "source": [
    "# Funções das strings"
   ]
  },
  {
   "cell_type": "markdown",
   "id": "ca7e1c63",
   "metadata": {},
   "source": [
    "## Maiúscula e minúscula (capitalização das letras)"
   ]
  },
  {
   "cell_type": "code",
   "execution_count": 56,
   "id": "78a57ee0",
   "metadata": {
    "ExecuteTime": {
     "end_time": "2021-06-16T23:21:33.624023Z",
     "start_time": "2021-06-16T23:21:33.614050Z"
    }
   },
   "outputs": [
    {
     "data": {
      "text/plain": [
       "'QuErO mOsTrar UMA frase'"
      ]
     },
     "execution_count": 56,
     "metadata": {},
     "output_type": "execute_result"
    }
   ],
   "source": [
    "frase = 'QuErO mOsTrar UMA frase'\n",
    "frase"
   ]
  },
  {
   "cell_type": "code",
   "execution_count": 60,
   "id": "3eae06de",
   "metadata": {
    "ExecuteTime": {
     "end_time": "2021-06-16T23:24:10.823006Z",
     "start_time": "2021-06-16T23:24:10.810459Z"
    }
   },
   "outputs": [
    {
     "data": {
      "text/plain": [
       "'QUERO MOSTRAR UMA FRASE'"
      ]
     },
     "execution_count": 60,
     "metadata": {},
     "output_type": "execute_result"
    }
   ],
   "source": [
    "# Quero a frase toda em letras maiúsculas\n",
    "\n",
    "maiuscula = frase.upper()\n",
    "maiuscula"
   ]
  },
  {
   "cell_type": "code",
   "execution_count": 61,
   "id": "e25d025f",
   "metadata": {
    "ExecuteTime": {
     "end_time": "2021-06-16T23:25:12.621899Z",
     "start_time": "2021-06-16T23:25:12.605943Z"
    }
   },
   "outputs": [
    {
     "data": {
      "text/plain": [
       "'quero mostrar uma frase'"
      ]
     },
     "execution_count": 61,
     "metadata": {},
     "output_type": "execute_result"
    }
   ],
   "source": [
    "# quero a frase toda em letras minúsculas\n",
    "\n",
    "minuscula = frase.lower()\n",
    "minuscula"
   ]
  },
  {
   "cell_type": "code",
   "execution_count": 64,
   "id": "0cd19cfb",
   "metadata": {
    "ExecuteTime": {
     "end_time": "2021-06-16T23:26:51.074416Z",
     "start_time": "2021-06-16T23:26:51.055466Z"
    }
   },
   "outputs": [
    {
     "data": {
      "text/plain": [
       "'Quero mostrar uma frase'"
      ]
     },
     "execution_count": 64,
     "metadata": {},
     "output_type": "execute_result"
    }
   ],
   "source": [
    "# quero colocar apenas a primeira maiúscula e o resto da frase em minúscula\n",
    "\n",
    "capitalize =  frase.capitalize()\n",
    "capitalize"
   ]
  },
  {
   "cell_type": "code",
   "execution_count": 65,
   "id": "8e9645c5",
   "metadata": {
    "ExecuteTime": {
     "end_time": "2021-06-16T23:27:29.108358Z",
     "start_time": "2021-06-16T23:27:29.089371Z"
    }
   },
   "outputs": [
    {
     "data": {
      "text/plain": [
       "'Quero Mostrar Uma Frase'"
      ]
     },
     "execution_count": 65,
     "metadata": {},
     "output_type": "execute_result"
    }
   ],
   "source": [
    "# quero maiúscula a primeira letra de cada palavra\n",
    "\n",
    "title =  frase.title()\n",
    "title"
   ]
  },
  {
   "cell_type": "code",
   "execution_count": 66,
   "id": "58a14c39",
   "metadata": {
    "ExecuteTime": {
     "end_time": "2021-06-16T23:27:50.273175Z",
     "start_time": "2021-06-16T23:27:50.259215Z"
    }
   },
   "outputs": [
    {
     "data": {
      "text/plain": [
       "'QuErO mOsTrar UMA frase'"
      ]
     },
     "execution_count": 66,
     "metadata": {},
     "output_type": "execute_result"
    }
   ],
   "source": [
    "frase # string imutável"
   ]
  },
  {
   "cell_type": "code",
   "execution_count": 67,
   "id": "5219763c",
   "metadata": {
    "ExecuteTime": {
     "end_time": "2021-06-16T23:32:09.785978Z",
     "start_time": "2021-06-16T23:31:22.584989Z"
    }
   },
   "outputs": [
    {
     "name": "stdout",
     "output_type": "stream",
     "text": [
      "Digite \"sim\" se aceita os termos de uso: sim\n",
      "Seja bem-vindo!\n"
     ]
    }
   ],
   "source": [
    "# um exemplo onde fica mais fácil usar essas funções\n",
    "\n",
    "usuario = input('Digite \"sim\" se aceita os termos de uso: ')\n",
    "if usuario.upper() == 'SIM': # evita ter que comparar com sim, Sim, sIm, S, s\n",
    "    print('Seja bem-vindo!')\n",
    "else:\n",
    "    print('Que pena.') "
   ]
  },
  {
   "cell_type": "markdown",
   "id": "d404bce1",
   "metadata": {},
   "source": [
    "## Quebrando uma string"
   ]
  },
  {
   "cell_type": "code",
   "execution_count": 71,
   "id": "8852296f",
   "metadata": {
    "ExecuteTime": {
     "end_time": "2021-06-16T23:37:10.629859Z",
     "start_time": "2021-06-16T23:37:10.609912Z"
    }
   },
   "outputs": [
    {
     "name": "stdout",
     "output_type": "stream",
     "text": [
      "['um', 'texto', 'qualquer', 'aqui,', 'por', 'exemplo']\n"
     ]
    }
   ],
   "source": [
    "texto = 'um texto qualquer aqui, por exemplo'\n",
    "\n",
    "palavras = texto.split() # quebrando o texto em palavras - separando as palavras pelo \"espaço\" (padrão) -> transforma em lista\n",
    "print(palavras) #obs: split(' ')"
   ]
  },
  {
   "cell_type": "code",
   "execution_count": 78,
   "id": "90e3e471",
   "metadata": {
    "ExecuteTime": {
     "end_time": "2021-06-16T23:41:03.444117Z",
     "start_time": "2021-06-16T23:41:03.427133Z"
    }
   },
   "outputs": [
    {
     "data": {
      "text/plain": [
       "['um texto qualquer aqui', ' por exemplo']"
      ]
     },
     "execution_count": 78,
     "metadata": {},
     "output_type": "execute_result"
    }
   ],
   "source": [
    "# quero quebrar o texto na vírgula\n",
    "\n",
    "texto2 = texto.split(',')\n",
    "texto2"
   ]
  },
  {
   "cell_type": "code",
   "execution_count": 82,
   "id": "caa9de44",
   "metadata": {
    "ExecuteTime": {
     "end_time": "2021-06-16T23:41:36.366791Z",
     "start_time": "2021-06-16T23:41:36.349833Z"
    }
   },
   "outputs": [
    {
     "data": {
      "text/plain": [
       "['um', 'texto', 'qualquer', 'aqui']"
      ]
     },
     "execution_count": 82,
     "metadata": {},
     "output_type": "execute_result"
    }
   ],
   "source": [
    "# pegando o primeiro elemento da string e separando por espaço\n",
    "texto2[0].split()"
   ]
  },
  {
   "cell_type": "code",
   "execution_count": 83,
   "id": "28ac8e86",
   "metadata": {
    "ExecuteTime": {
     "end_time": "2021-06-16T23:43:14.938012Z",
     "start_time": "2021-06-16T23:43:14.934023Z"
    }
   },
   "outputs": [],
   "source": [
    "# separar em dia, mês e ano\n",
    "data = '16/06/2021'"
   ]
  },
  {
   "cell_type": "code",
   "execution_count": 87,
   "id": "37016fdf",
   "metadata": {
    "ExecuteTime": {
     "end_time": "2021-06-16T23:44:34.442977Z",
     "start_time": "2021-06-16T23:44:34.434002Z"
    }
   },
   "outputs": [
    {
     "data": {
      "text/plain": [
       "['16', '06', '2021']"
      ]
     },
     "execution_count": 87,
     "metadata": {},
     "output_type": "execute_result"
    }
   ],
   "source": [
    "lista_data = data.split('/')\n",
    "lista_data"
   ]
  },
  {
   "cell_type": "code",
   "execution_count": 90,
   "id": "566c2f7e",
   "metadata": {
    "ExecuteTime": {
     "end_time": "2021-06-16T23:46:18.264603Z",
     "start_time": "2021-06-16T23:46:18.258608Z"
    }
   },
   "outputs": [
    {
     "name": "stdout",
     "output_type": "stream",
     "text": [
      "Dia:  16\n",
      "Mês:  6\n",
      "Ano:  2021\n"
     ]
    }
   ],
   "source": [
    "dia = int(lista_data[0])\n",
    "mes = int(lista_data[1])\n",
    "ano = int(lista_data[2])\n",
    "\n",
    "print('Dia: ', dia)\n",
    "print('Mês: ', mes)\n",
    "print('Ano: ', ano)"
   ]
  },
  {
   "cell_type": "code",
   "execution_count": 91,
   "id": "3ba02ee1",
   "metadata": {
    "ExecuteTime": {
     "end_time": "2021-06-16T23:47:22.590170Z",
     "start_time": "2021-06-16T23:47:22.574215Z"
    }
   },
   "outputs": [
    {
     "data": {
      "text/plain": [
       "['16', '06', '2021']"
      ]
     },
     "execution_count": 91,
     "metadata": {},
     "output_type": "execute_result"
    }
   ],
   "source": [
    "lista_data"
   ]
  },
  {
   "cell_type": "code",
   "execution_count": 92,
   "id": "8b71f2bf",
   "metadata": {
    "ExecuteTime": {
     "end_time": "2021-06-16T23:47:54.933365Z",
     "start_time": "2021-06-16T23:47:54.925343Z"
    }
   },
   "outputs": [
    {
     "data": {
      "text/plain": [
       "['16/', '06', '2021']"
      ]
     },
     "execution_count": 92,
     "metadata": {},
     "output_type": "execute_result"
    }
   ],
   "source": [
    "# dúvida durante a aula, acrescentar a barra que o split sumiu\n",
    "lista_data[0] = lista_data[0] + '/'\n",
    "lista_data"
   ]
  },
  {
   "cell_type": "code",
   "execution_count": 93,
   "id": "da1691fe",
   "metadata": {
    "ExecuteTime": {
     "end_time": "2021-06-16T23:49:44.765697Z",
     "start_time": "2021-06-16T23:49:44.757720Z"
    }
   },
   "outputs": [
    {
     "data": {
      "text/plain": [
       "'Python é difícil. Por ser difícil, devemos estudar'"
      ]
     },
     "execution_count": 93,
     "metadata": {},
     "output_type": "execute_result"
    }
   ],
   "source": [
    "# Substituindo elementos em uma string\n",
    "\n",
    "frase = 'Python é difícil. Por ser difícil, devemos estudar'\n",
    "frase"
   ]
  },
  {
   "cell_type": "code",
   "execution_count": 96,
   "id": "8f8c1854",
   "metadata": {
    "ExecuteTime": {
     "end_time": "2021-06-16T23:51:57.772479Z",
     "start_time": "2021-06-16T23:51:57.764537Z"
    }
   },
   "outputs": [
    {
     "data": {
      "text/plain": [
       "'Python é fácil. Por ser fácil, devemos estudar'"
      ]
     },
     "execution_count": 96,
     "metadata": {},
     "output_type": "execute_result"
    }
   ],
   "source": [
    "# substituir a palavra difícil por fácil\n",
    "\n",
    "frase_corrigida = frase.replace('difícil', 'fácil')    # troca uma palavra por outra\n",
    "frase_corrigida"
   ]
  },
  {
   "cell_type": "code",
   "execution_count": 100,
   "id": "90bc6628",
   "metadata": {
    "ExecuteTime": {
     "end_time": "2021-06-16T23:55:06.186022Z",
     "start_time": "2021-06-16T23:55:06.173057Z"
    }
   },
   "outputs": [
    {
     "data": {
      "text/plain": [
       "'btt'"
      ]
     },
     "execution_count": 100,
     "metadata": {},
     "output_type": "execute_result"
    }
   ],
   "source": [
    "# podemos usar o replace para \"apagar\" uma letra, por exemplo\n",
    "\n",
    "palavra = 'batata'\n",
    "consoantes = palavra.replace('a','')\n",
    "consoantes"
   ]
  },
  {
   "cell_type": "markdown",
   "id": "1c4ba319",
   "metadata": {
    "ExecuteTime": {
     "end_time": "2021-06-16T23:55:26.600943Z",
     "start_time": "2021-06-16T23:55:26.595956Z"
    }
   },
   "source": [
    "## Concatenando strings em uma coleção (unir letras)"
   ]
  },
  {
   "cell_type": "code",
   "execution_count": 102,
   "id": "e4f060a6",
   "metadata": {
    "ExecuteTime": {
     "end_time": "2021-06-16T23:57:47.197414Z",
     "start_time": "2021-06-16T23:57:47.191431Z"
    }
   },
   "outputs": [
    {
     "data": {
      "text/plain": [
       "'abc'"
      ]
     },
     "execution_count": 102,
     "metadata": {},
     "output_type": "execute_result"
    }
   ],
   "source": [
    "# transformar uma lista em string (juntando todas as letras)\n",
    "lista = ['a', 'b', 'c']\n",
    "\n",
    "''.join(lista) # unindo pelo caracter vazio ('') todas as letras (ou melhor, todos elementos da lista)"
   ]
  },
  {
   "cell_type": "code",
   "execution_count": 103,
   "id": "54e175a3",
   "metadata": {
    "ExecuteTime": {
     "end_time": "2021-06-16T23:59:22.462644Z",
     "start_time": "2021-06-16T23:59:22.443693Z"
    }
   },
   "outputs": [
    {
     "data": {
      "text/plain": [
       "'a-b-c'"
      ]
     },
     "execution_count": 103,
     "metadata": {},
     "output_type": "execute_result"
    }
   ],
   "source": [
    "'-'.join(lista) # unindo pelo caracter (-) todas as letras (ou melhor, todos elementos da lista)"
   ]
  },
  {
   "cell_type": "code",
   "execution_count": 104,
   "id": "ba9a170c",
   "metadata": {
    "ExecuteTime": {
     "end_time": "2021-06-16T23:59:51.406723Z",
     "start_time": "2021-06-16T23:59:51.390765Z"
    }
   },
   "outputs": [
    {
     "data": {
      "text/plain": [
       "'a123b123c'"
      ]
     },
     "execution_count": 104,
     "metadata": {},
     "output_type": "execute_result"
    }
   ],
   "source": [
    "lista = ['a', 'b', 'c']\n",
    "separador = '123'\n",
    "\n",
    "resultado = separador.join(lista)\n",
    "resultado"
   ]
  },
  {
   "cell_type": "markdown",
   "id": "04247f0a",
   "metadata": {},
   "source": [
    "lista é lista  \n",
    "separador é uma string  \n",
    "resultado é uma string  \n",
    "\n",
    "join(lista) -> transforma uma lista em uma string"
   ]
  },
  {
   "cell_type": "code",
   "execution_count": 106,
   "id": "3d11491b",
   "metadata": {
    "ExecuteTime": {
     "end_time": "2021-06-17T00:02:29.740361Z",
     "start_time": "2021-06-17T00:02:29.726400Z"
    }
   },
   "outputs": [
    {
     "data": {
      "text/plain": [
       "'16/06/2021'"
      ]
     },
     "execution_count": 106,
     "metadata": {},
     "output_type": "execute_result"
    }
   ],
   "source": [
    "data = ['16', '06', '2021']\n",
    "separador = '/'\n",
    "\n",
    "separador.join(data)"
   ]
  },
  {
   "cell_type": "code",
   "execution_count": 107,
   "id": "82d877e5",
   "metadata": {
    "ExecuteTime": {
     "end_time": "2021-06-17T00:02:58.494489Z",
     "start_time": "2021-06-17T00:02:58.482521Z"
    }
   },
   "outputs": [
    {
     "data": {
      "text/plain": [
       "'16-06-2021'"
      ]
     },
     "execution_count": 107,
     "metadata": {},
     "output_type": "execute_result"
    }
   ],
   "source": [
    "'-'.join(data)"
   ]
  },
  {
   "cell_type": "code",
   "execution_count": 108,
   "id": "c0a3d103",
   "metadata": {
    "ExecuteTime": {
     "end_time": "2021-06-17T00:03:21.660006Z",
     "start_time": "2021-06-17T00:03:21.642053Z"
    }
   },
   "outputs": [
    {
     "ename": "TypeError",
     "evalue": "sequence item 0: expected str instance, int found",
     "output_type": "error",
     "traceback": [
      "\u001b[1;31m---------------------------------------------------------------------------\u001b[0m",
      "\u001b[1;31mTypeError\u001b[0m                                 Traceback (most recent call last)",
      "\u001b[1;32m<ipython-input-108-b8391612ea21>\u001b[0m in \u001b[0;36m<module>\u001b[1;34m\u001b[0m\n\u001b[0;32m      2\u001b[0m \u001b[0mseparador\u001b[0m \u001b[1;33m=\u001b[0m \u001b[1;34m'/'\u001b[0m\u001b[1;33m\u001b[0m\u001b[1;33m\u001b[0m\u001b[0m\n\u001b[0;32m      3\u001b[0m \u001b[1;33m\u001b[0m\u001b[0m\n\u001b[1;32m----> 4\u001b[1;33m \u001b[0mseparador\u001b[0m\u001b[1;33m.\u001b[0m\u001b[0mjoin\u001b[0m\u001b[1;33m(\u001b[0m\u001b[0mdata\u001b[0m\u001b[1;33m)\u001b[0m\u001b[1;33m\u001b[0m\u001b[1;33m\u001b[0m\u001b[0m\n\u001b[0m",
      "\u001b[1;31mTypeError\u001b[0m: sequence item 0: expected str instance, int found"
     ]
    }
   ],
   "source": [
    "# A lista precisa ter valores do tipo string E NÃO INTEIRO\n",
    "data = [16, 6, 2021]\n",
    "separador = '/'\n",
    "\n",
    "separador.join(data)"
   ]
  },
  {
   "cell_type": "markdown",
   "id": "8db3cd0c",
   "metadata": {},
   "source": [
    "## Formatando strings"
   ]
  },
  {
   "cell_type": "markdown",
   "id": "3963f8ff",
   "metadata": {},
   "source": [
    "    Eu, __, portador do CPF ___, residente no endereço _____ autorizo o procedimento."
   ]
  },
  {
   "cell_type": "code",
   "execution_count": 110,
   "id": "3757ed17",
   "metadata": {
    "ExecuteTime": {
     "end_time": "2021-06-17T00:12:21.413493Z",
     "start_time": "2021-06-17T00:12:21.406458Z"
    }
   },
   "outputs": [],
   "source": [
    "nome = 'João da Silva'\n",
    "cpf = '123.456.789-00'\n",
    "endereco = 'Av Brigadeiro Faria Lima, 3450'"
   ]
  },
  {
   "cell_type": "markdown",
   "id": "f847ac85",
   "metadata": {
    "ExecuteTime": {
     "end_time": "2021-06-17T00:12:52.960807Z",
     "start_time": "2021-06-17T00:12:52.952830Z"
    }
   },
   "source": [
    "- Usando o comando \".format\""
   ]
  },
  {
   "cell_type": "code",
   "execution_count": 109,
   "id": "21fa37f3",
   "metadata": {
    "ExecuteTime": {
     "end_time": "2021-06-17T00:09:51.675353Z",
     "start_time": "2021-06-17T00:09:51.671365Z"
    }
   },
   "outputs": [],
   "source": [
    "contrato = 'Eu {}, portador do CPF nº {}, residente no endereço {} autorizo o procedimento'"
   ]
  },
  {
   "cell_type": "code",
   "execution_count": 111,
   "id": "67350d2a",
   "metadata": {
    "ExecuteTime": {
     "end_time": "2021-06-17T00:12:29.429923Z",
     "start_time": "2021-06-17T00:12:29.414003Z"
    }
   },
   "outputs": [
    {
     "data": {
      "text/plain": [
       "'Eu João da Silva, portador do CPF nº 123.456.789-00, residente no endereço Av Brigadeiro Faria Lima, 3450 autorizo o procedimento'"
      ]
     },
     "execution_count": 111,
     "metadata": {},
     "output_type": "execute_result"
    }
   ],
   "source": [
    "contrato.format(nome, cpf, endereco)"
   ]
  },
  {
   "cell_type": "markdown",
   "id": "2cd5910d",
   "metadata": {},
   "source": [
    "- Usando o comando f-string"
   ]
  },
  {
   "cell_type": "code",
   "execution_count": 114,
   "id": "fa872b10",
   "metadata": {
    "ExecuteTime": {
     "end_time": "2021-06-17T00:14:18.063993Z",
     "start_time": "2021-06-17T00:14:18.057013Z"
    }
   },
   "outputs": [
    {
     "data": {
      "text/plain": [
       "'Eu João da Silva, portador do CPF nº 123.456.789-00, residente no endereço Av Brigadeiro Faria Lima, 3450 autorizo o procedimento'"
      ]
     },
     "execution_count": 114,
     "metadata": {},
     "output_type": "execute_result"
    }
   ],
   "source": [
    "contrato = f'Eu {nome}, portador do CPF nº {cpf}, residente no endereço {endereco} autorizo o procedimento'\n",
    "contrato"
   ]
  },
  {
   "cell_type": "code",
   "execution_count": 125,
   "id": "cd1d0101",
   "metadata": {
    "ExecuteTime": {
     "end_time": "2021-06-17T00:23:45.869933Z",
     "start_time": "2021-06-17T00:23:45.860916Z"
    }
   },
   "outputs": [],
   "source": [
    "dia = 1\n",
    "mes = 2\n",
    "ano = 2021\n",
    "\n",
    "'01/02/2021' # formato que queremos"
   ]
  },
  {
   "cell_type": "code",
   "execution_count": 126,
   "id": "eaec81fc",
   "metadata": {
    "ExecuteTime": {
     "end_time": "2021-06-17T00:23:48.526870Z",
     "start_time": "2021-06-17T00:23:48.518865Z"
    }
   },
   "outputs": [
    {
     "name": "stdout",
     "output_type": "stream",
     "text": [
      "1/2/2021\n"
     ]
    }
   ],
   "source": [
    "#exemplo dado por um aluno na sala -> é uma forma de resolver o problema MAS não parece no formato '01/02/2021'\n",
    "print(str(dia) + '/' + str(mes) + '/' + str(ano))"
   ]
  },
  {
   "cell_type": "code",
   "execution_count": 127,
   "id": "b625c113",
   "metadata": {
    "ExecuteTime": {
     "end_time": "2021-06-17T00:23:48.897185Z",
     "start_time": "2021-06-17T00:23:48.885177Z"
    }
   },
   "outputs": [
    {
     "name": "stdout",
     "output_type": "stream",
     "text": [
      "01/02/2021\n"
     ]
    }
   ],
   "source": [
    "# dica: zfill _> para resolver o problema criado pelo aluno!!!!\n",
    "print(str(dia).zfill(2) + '/' + str(mes).zfill(2) + '/' + str(ano))"
   ]
  },
  {
   "cell_type": "code",
   "execution_count": 131,
   "id": "59db5cfa",
   "metadata": {
    "ExecuteTime": {
     "end_time": "2021-06-17T00:28:15.229717Z",
     "start_time": "2021-06-17T00:28:15.211764Z"
    }
   },
   "outputs": [
    {
     "name": "stdout",
     "output_type": "stream",
     "text": [
      "01/02/2021\n"
     ]
    }
   ],
   "source": [
    "# outra forma de resolver\n",
    "data = '{:02d}/{:02d}/{:04d}'.format(dia, mes, ano)\n",
    "print(data)\n",
    "\n",
    "# : passaremos opçoes\n",
    "# d nº inteiro em base decimal (0 a 9)\n",
    "# 2 e 4 casas\n",
    "# 0 se faltar dígito, completa com zero"
   ]
  },
  {
   "cell_type": "code",
   "execution_count": 132,
   "id": "b6ce4e16",
   "metadata": {
    "ExecuteTime": {
     "end_time": "2021-06-17T00:28:38.502476Z",
     "start_time": "2021-06-17T00:28:38.488481Z"
    }
   },
   "outputs": [
    {
     "name": "stdout",
     "output_type": "stream",
     "text": [
      "154.403\n",
      "R$ 154.40\n"
     ]
    }
   ],
   "source": [
    "precoLitro = 5.234\n",
    "litros = 29.5\n",
    "total = precoLitro * litros\n",
    "print(total) # resultado: 154.403\n",
    "\n",
    "precoFinal = 'R$ {:.2f}'.format(total)\n",
    "print(precoFinal) # resultado: R$ 154.40\n",
    "\n",
    "# : vou passar opções\n",
    "# .2 2 casas decimais _ arredonda o valor\n",
    "# f float = valor decimal"
   ]
  },
  {
   "cell_type": "code",
   "execution_count": 136,
   "id": "071a6493",
   "metadata": {
    "ExecuteTime": {
     "end_time": "2021-06-17T00:32:05.602207Z",
     "start_time": "2021-06-17T00:32:05.593231Z"
    }
   },
   "outputs": [
    {
     "data": {
      "text/plain": [
       "'R$ 154.41'"
      ]
     },
     "execution_count": 136,
     "metadata": {},
     "output_type": "execute_result"
    }
   ],
   "source": [
    "numero =  154.408\n",
    "'R$ {:.2f}'.format(numero)"
   ]
  },
  {
   "cell_type": "markdown",
   "id": "42a308ce",
   "metadata": {},
   "source": [
    "O format possui tantas opções diferentes que existe um site inteiro dedicado a explicar e dar exemplos: https://pyformat.info/"
   ]
  },
  {
   "cell_type": "code",
   "execution_count": 140,
   "id": "b857926a",
   "metadata": {
    "ExecuteTime": {
     "end_time": "2021-06-17T00:37:07.271410Z",
     "start_time": "2021-06-17T00:37:07.257404Z"
    }
   },
   "outputs": [
    {
     "name": "stdout",
     "output_type": "stream",
     "text": [
      "154.403\n",
      "R$ 154.4\n"
     ]
    }
   ],
   "source": [
    "precoLitro = 5.234\n",
    "litros = 29.5\n",
    "total = precoLitro * litros\n",
    "print(total) # resultado: 154.403\n",
    "\n",
    "precoFinal = 'R$ {}'.format(round(total,2))\n",
    "print(precoFinal) # resultado: R$ 154.40\n",
    "\n",
    "# : vou passar opções\n",
    "# .2 2 casas decimais _ arredonda o valor\n",
    "# f float = valor decimal"
   ]
  },
  {
   "cell_type": "code",
   "execution_count": 151,
   "id": "ced6e91f",
   "metadata": {
    "ExecuteTime": {
     "end_time": "2021-06-17T00:39:43.093309Z",
     "start_time": "2021-06-17T00:39:43.076354Z"
    }
   },
   "outputs": [
    {
     "name": "stdout",
     "output_type": "stream",
     "text": [
      "01/02/2021\n"
     ]
    }
   ],
   "source": [
    "dia = 1\n",
    "mes = 2\n",
    "ano = 21\n",
    "\n",
    "# outra forma de resolver\n",
    "data = '{:02d}/{:02d}/20{:2d}'.format(dia, mes, ano)\n",
    "print(data)\n",
    "\n",
    "# : passaremos opçoes\n",
    "# d nº inteiro em base decimal (0 a 9)\n",
    "# 2 e 4 casas\n",
    "# 0 se faltar dígito, completa com zero"
   ]
  },
  {
   "cell_type": "code",
   "execution_count": null,
   "id": "f2b84447",
   "metadata": {},
   "outputs": [],
   "source": []
  }
 ],
 "metadata": {
  "kernelspec": {
   "display_name": "Python 3",
   "language": "python",
   "name": "python3"
  },
  "language_info": {
   "codemirror_mode": {
    "name": "ipython",
    "version": 3
   },
   "file_extension": ".py",
   "mimetype": "text/x-python",
   "name": "python",
   "nbconvert_exporter": "python",
   "pygments_lexer": "ipython3",
   "version": "3.9.5"
  },
  "varInspector": {
   "cols": {
    "lenName": 16,
    "lenType": 16,
    "lenVar": 40
   },
   "kernels_config": {
    "python": {
     "delete_cmd_postfix": "",
     "delete_cmd_prefix": "del ",
     "library": "var_list.py",
     "varRefreshCmd": "print(var_dic_list())"
    },
    "r": {
     "delete_cmd_postfix": ") ",
     "delete_cmd_prefix": "rm(",
     "library": "var_list.r",
     "varRefreshCmd": "cat(var_dic_list()) "
    }
   },
   "types_to_exclude": [
    "module",
    "function",
    "builtin_function_or_method",
    "instance",
    "_Feature"
   ],
   "window_display": false
  }
 },
 "nbformat": 4,
 "nbformat_minor": 5
}
